{
 "cells": [
  {
   "cell_type": "code",
   "execution_count": 1,
   "id": "12037811",
   "metadata": {
    "scrolled": false
   },
   "outputs": [
    {
     "name": "stdout",
     "output_type": "stream",
     "text": [
      "\n",
      "--------------------------------Abbreviated data frame--------------------------------\n"
     ]
    },
    {
     "data": {
      "text/html": [
       "<div>\n",
       "<style scoped>\n",
       "    .dataframe tbody tr th:only-of-type {\n",
       "        vertical-align: middle;\n",
       "    }\n",
       "\n",
       "    .dataframe tbody tr th {\n",
       "        vertical-align: top;\n",
       "    }\n",
       "\n",
       "    .dataframe thead th {\n",
       "        text-align: right;\n",
       "    }\n",
       "</style>\n",
       "<table border=\"1\" class=\"dataframe\">\n",
       "  <thead>\n",
       "    <tr style=\"text-align: right;\">\n",
       "      <th></th>\n",
       "      <th>outcome</th>\n",
       "      <th>cap-shape</th>\n",
       "      <th>cap-surface</th>\n",
       "      <th>cap-color</th>\n",
       "      <th>bruises</th>\n",
       "      <th>odor</th>\n",
       "      <th>gill-attachment</th>\n",
       "      <th>gill-spacing</th>\n",
       "      <th>gill-size</th>\n",
       "      <th>gill-color</th>\n",
       "      <th>...</th>\n",
       "      <th>stalk-surface-below-ring</th>\n",
       "      <th>stalk-color-above-ring</th>\n",
       "      <th>stalk-color-below-ring</th>\n",
       "      <th>veil-type</th>\n",
       "      <th>veil-color</th>\n",
       "      <th>ring-number</th>\n",
       "      <th>ring-type</th>\n",
       "      <th>spore-print-color</th>\n",
       "      <th>population</th>\n",
       "      <th>habitat</th>\n",
       "    </tr>\n",
       "  </thead>\n",
       "  <tbody>\n",
       "    <tr>\n",
       "      <th>2526</th>\n",
       "      <td>e</td>\n",
       "      <td>x</td>\n",
       "      <td>f</td>\n",
       "      <td>g</td>\n",
       "      <td>t</td>\n",
       "      <td>n</td>\n",
       "      <td>f</td>\n",
       "      <td>c</td>\n",
       "      <td>b</td>\n",
       "      <td>u</td>\n",
       "      <td>...</td>\n",
       "      <td>s</td>\n",
       "      <td>p</td>\n",
       "      <td>w</td>\n",
       "      <td>p</td>\n",
       "      <td>w</td>\n",
       "      <td>o</td>\n",
       "      <td>p</td>\n",
       "      <td>n</td>\n",
       "      <td>y</td>\n",
       "      <td>d</td>\n",
       "    </tr>\n",
       "    <tr>\n",
       "      <th>3130</th>\n",
       "      <td>e</td>\n",
       "      <td>f</td>\n",
       "      <td>y</td>\n",
       "      <td>g</td>\n",
       "      <td>t</td>\n",
       "      <td>n</td>\n",
       "      <td>f</td>\n",
       "      <td>c</td>\n",
       "      <td>b</td>\n",
       "      <td>p</td>\n",
       "      <td>...</td>\n",
       "      <td>s</td>\n",
       "      <td>g</td>\n",
       "      <td>g</td>\n",
       "      <td>p</td>\n",
       "      <td>w</td>\n",
       "      <td>o</td>\n",
       "      <td>p</td>\n",
       "      <td>k</td>\n",
       "      <td>v</td>\n",
       "      <td>d</td>\n",
       "    </tr>\n",
       "    <tr>\n",
       "      <th>3766</th>\n",
       "      <td>e</td>\n",
       "      <td>f</td>\n",
       "      <td>y</td>\n",
       "      <td>n</td>\n",
       "      <td>t</td>\n",
       "      <td>n</td>\n",
       "      <td>f</td>\n",
       "      <td>c</td>\n",
       "      <td>b</td>\n",
       "      <td>w</td>\n",
       "      <td>...</td>\n",
       "      <td>s</td>\n",
       "      <td>g</td>\n",
       "      <td>g</td>\n",
       "      <td>p</td>\n",
       "      <td>w</td>\n",
       "      <td>o</td>\n",
       "      <td>p</td>\n",
       "      <td>n</td>\n",
       "      <td>v</td>\n",
       "      <td>d</td>\n",
       "    </tr>\n",
       "    <tr>\n",
       "      <th>6835</th>\n",
       "      <td>p</td>\n",
       "      <td>f</td>\n",
       "      <td>y</td>\n",
       "      <td>e</td>\n",
       "      <td>f</td>\n",
       "      <td>f</td>\n",
       "      <td>f</td>\n",
       "      <td>c</td>\n",
       "      <td>n</td>\n",
       "      <td>b</td>\n",
       "      <td>...</td>\n",
       "      <td>k</td>\n",
       "      <td>w</td>\n",
       "      <td>p</td>\n",
       "      <td>p</td>\n",
       "      <td>w</td>\n",
       "      <td>o</td>\n",
       "      <td>e</td>\n",
       "      <td>w</td>\n",
       "      <td>v</td>\n",
       "      <td>p</td>\n",
       "    </tr>\n",
       "    <tr>\n",
       "      <th>2262</th>\n",
       "      <td>e</td>\n",
       "      <td>f</td>\n",
       "      <td>f</td>\n",
       "      <td>n</td>\n",
       "      <td>t</td>\n",
       "      <td>n</td>\n",
       "      <td>f</td>\n",
       "      <td>c</td>\n",
       "      <td>b</td>\n",
       "      <td>n</td>\n",
       "      <td>...</td>\n",
       "      <td>s</td>\n",
       "      <td>w</td>\n",
       "      <td>g</td>\n",
       "      <td>p</td>\n",
       "      <td>w</td>\n",
       "      <td>o</td>\n",
       "      <td>p</td>\n",
       "      <td>k</td>\n",
       "      <td>y</td>\n",
       "      <td>d</td>\n",
       "    </tr>\n",
       "    <tr>\n",
       "      <th>...</th>\n",
       "      <td>...</td>\n",
       "      <td>...</td>\n",
       "      <td>...</td>\n",
       "      <td>...</td>\n",
       "      <td>...</td>\n",
       "      <td>...</td>\n",
       "      <td>...</td>\n",
       "      <td>...</td>\n",
       "      <td>...</td>\n",
       "      <td>...</td>\n",
       "      <td>...</td>\n",
       "      <td>...</td>\n",
       "      <td>...</td>\n",
       "      <td>...</td>\n",
       "      <td>...</td>\n",
       "      <td>...</td>\n",
       "      <td>...</td>\n",
       "      <td>...</td>\n",
       "      <td>...</td>\n",
       "      <td>...</td>\n",
       "      <td>...</td>\n",
       "    </tr>\n",
       "    <tr>\n",
       "      <th>5302</th>\n",
       "      <td>e</td>\n",
       "      <td>x</td>\n",
       "      <td>y</td>\n",
       "      <td>r</td>\n",
       "      <td>f</td>\n",
       "      <td>n</td>\n",
       "      <td>f</td>\n",
       "      <td>c</td>\n",
       "      <td>n</td>\n",
       "      <td>w</td>\n",
       "      <td>...</td>\n",
       "      <td>f</td>\n",
       "      <td>w</td>\n",
       "      <td>w</td>\n",
       "      <td>p</td>\n",
       "      <td>w</td>\n",
       "      <td>o</td>\n",
       "      <td>f</td>\n",
       "      <td>h</td>\n",
       "      <td>y</td>\n",
       "      <td>d</td>\n",
       "    </tr>\n",
       "    <tr>\n",
       "      <th>2500</th>\n",
       "      <td>e</td>\n",
       "      <td>f</td>\n",
       "      <td>s</td>\n",
       "      <td>w</td>\n",
       "      <td>f</td>\n",
       "      <td>n</td>\n",
       "      <td>f</td>\n",
       "      <td>w</td>\n",
       "      <td>b</td>\n",
       "      <td>h</td>\n",
       "      <td>...</td>\n",
       "      <td>f</td>\n",
       "      <td>w</td>\n",
       "      <td>w</td>\n",
       "      <td>p</td>\n",
       "      <td>w</td>\n",
       "      <td>o</td>\n",
       "      <td>e</td>\n",
       "      <td>k</td>\n",
       "      <td>s</td>\n",
       "      <td>g</td>\n",
       "    </tr>\n",
       "    <tr>\n",
       "      <th>3801</th>\n",
       "      <td>p</td>\n",
       "      <td>x</td>\n",
       "      <td>s</td>\n",
       "      <td>g</td>\n",
       "      <td>f</td>\n",
       "      <td>c</td>\n",
       "      <td>f</td>\n",
       "      <td>c</td>\n",
       "      <td>n</td>\n",
       "      <td>p</td>\n",
       "      <td>...</td>\n",
       "      <td>s</td>\n",
       "      <td>w</td>\n",
       "      <td>w</td>\n",
       "      <td>p</td>\n",
       "      <td>w</td>\n",
       "      <td>o</td>\n",
       "      <td>p</td>\n",
       "      <td>k</td>\n",
       "      <td>s</td>\n",
       "      <td>d</td>\n",
       "    </tr>\n",
       "    <tr>\n",
       "      <th>7415</th>\n",
       "      <td>e</td>\n",
       "      <td>x</td>\n",
       "      <td>s</td>\n",
       "      <td>g</td>\n",
       "      <td>t</td>\n",
       "      <td>n</td>\n",
       "      <td>f</td>\n",
       "      <td>c</td>\n",
       "      <td>b</td>\n",
       "      <td>w</td>\n",
       "      <td>...</td>\n",
       "      <td>s</td>\n",
       "      <td>w</td>\n",
       "      <td>w</td>\n",
       "      <td>p</td>\n",
       "      <td>w</td>\n",
       "      <td>t</td>\n",
       "      <td>p</td>\n",
       "      <td>w</td>\n",
       "      <td>v</td>\n",
       "      <td>p</td>\n",
       "    </tr>\n",
       "    <tr>\n",
       "      <th>7241</th>\n",
       "      <td>p</td>\n",
       "      <td>f</td>\n",
       "      <td>s</td>\n",
       "      <td>e</td>\n",
       "      <td>f</td>\n",
       "      <td>y</td>\n",
       "      <td>f</td>\n",
       "      <td>c</td>\n",
       "      <td>n</td>\n",
       "      <td>b</td>\n",
       "      <td>...</td>\n",
       "      <td>k</td>\n",
       "      <td>w</td>\n",
       "      <td>p</td>\n",
       "      <td>p</td>\n",
       "      <td>w</td>\n",
       "      <td>o</td>\n",
       "      <td>e</td>\n",
       "      <td>w</td>\n",
       "      <td>v</td>\n",
       "      <td>p</td>\n",
       "    </tr>\n",
       "  </tbody>\n",
       "</table>\n",
       "<p>6499 rows × 23 columns</p>\n",
       "</div>"
      ],
      "text/plain": [
       "     outcome cap-shape cap-surface cap-color bruises odor gill-attachment  \\\n",
       "2526       e         x           f         g       t    n               f   \n",
       "3130       e         f           y         g       t    n               f   \n",
       "3766       e         f           y         n       t    n               f   \n",
       "6835       p         f           y         e       f    f               f   \n",
       "2262       e         f           f         n       t    n               f   \n",
       "...      ...       ...         ...       ...     ...  ...             ...   \n",
       "5302       e         x           y         r       f    n               f   \n",
       "2500       e         f           s         w       f    n               f   \n",
       "3801       p         x           s         g       f    c               f   \n",
       "7415       e         x           s         g       t    n               f   \n",
       "7241       p         f           s         e       f    y               f   \n",
       "\n",
       "     gill-spacing gill-size gill-color  ... stalk-surface-below-ring  \\\n",
       "2526            c         b          u  ...                        s   \n",
       "3130            c         b          p  ...                        s   \n",
       "3766            c         b          w  ...                        s   \n",
       "6835            c         n          b  ...                        k   \n",
       "2262            c         b          n  ...                        s   \n",
       "...           ...       ...        ...  ...                      ...   \n",
       "5302            c         n          w  ...                        f   \n",
       "2500            w         b          h  ...                        f   \n",
       "3801            c         n          p  ...                        s   \n",
       "7415            c         b          w  ...                        s   \n",
       "7241            c         n          b  ...                        k   \n",
       "\n",
       "     stalk-color-above-ring stalk-color-below-ring veil-type veil-color  \\\n",
       "2526                      p                      w         p          w   \n",
       "3130                      g                      g         p          w   \n",
       "3766                      g                      g         p          w   \n",
       "6835                      w                      p         p          w   \n",
       "2262                      w                      g         p          w   \n",
       "...                     ...                    ...       ...        ...   \n",
       "5302                      w                      w         p          w   \n",
       "2500                      w                      w         p          w   \n",
       "3801                      w                      w         p          w   \n",
       "7415                      w                      w         p          w   \n",
       "7241                      w                      p         p          w   \n",
       "\n",
       "     ring-number ring-type spore-print-color population habitat  \n",
       "2526           o         p                 n          y       d  \n",
       "3130           o         p                 k          v       d  \n",
       "3766           o         p                 n          v       d  \n",
       "6835           o         e                 w          v       p  \n",
       "2262           o         p                 k          y       d  \n",
       "...          ...       ...               ...        ...     ...  \n",
       "5302           o         f                 h          y       d  \n",
       "2500           o         e                 k          s       g  \n",
       "3801           o         p                 k          s       d  \n",
       "7415           t         p                 w          v       p  \n",
       "7241           o         e                 w          v       p  \n",
       "\n",
       "[6499 rows x 23 columns]"
      ]
     },
     "metadata": {},
     "output_type": "display_data"
    }
   ],
   "source": [
    "import matplotlib\n",
    "import matplotlib.pyplot as plt\n",
    "import numpy as np\n",
    "import pandas as pd\n",
    "import sklearn\n",
    "\n",
    "from sklearn import datasets\n",
    "from sklearn.decomposition import PCA\n",
    "\n",
    "colNames=['outcome','cap-shape','cap-surface','cap-color','bruises','odor','gill-attachment',\n",
    "          'gill-spacing','gill-size','gill-color','stalk-shape','stalk-root','stalk-surface-above-ring',\n",
    "          'stalk-surface-below-ring','stalk-color-above-ring','stalk-color-below-ring','veil-type',\n",
    "          'veil-color','ring-number','ring-type','spore-print-color','population','habitat']\n",
    "\n",
    "\n",
    "\n",
    "\n",
    "dataset = pd.read_csv('https://archive.ics.uci.edu/ml/machine-learning-databases/mushroom/agaricus-lepiota.data',\n",
    "                      names=colNames)\n",
    "\n",
    "#80/20 split\n",
    "from sklearn.model_selection import train_test_split\n",
    "DataSplit = train_test_split(dataset, test_size=0.2, random_state=11022017)\n",
    "trainData, testData = DataSplit\n",
    "\n",
    "dataframe = pd.DataFrame(trainData)\n",
    "\n",
    "print(\"\\n--------------------------------Abbreviated data frame--------------------------------\")\n",
    "\n",
    "display(dataframe)\n",
    "\n"
   ]
  },
  {
   "cell_type": "code",
   "execution_count": 2,
   "id": "228ae0ea",
   "metadata": {
    "scrolled": false
   },
   "outputs": [
    {
     "name": "stdout",
     "output_type": "stream",
     "text": [
      "\n",
      "\n",
      "--------------------------------Chi Squared Contingency Tables--------------------------------\n",
      "\n",
      "\n",
      "----------cap-shape Contingency Table ----------- \n",
      "\n",
      "cap-shape    b  c     f    k   s     x\n",
      "outcome                               \n",
      "e          326  0  1270  183  28  1560\n",
      "p           38  3  1247  482   0  1362\n",
      " \n",
      "----------cap-shape Chi Squared-----------\n"
     ]
    },
    {
     "data": {
      "text/plain": [
       "(398.95691063126094,\n",
       " 4.9782534643623335e-84,\n",
       " 5,\n",
       " array([[1.88581012e+02, 1.55423911e+00, 1.30400662e+03, 3.44523004e+02,\n",
       "         1.45062317e+01, 1.51382890e+03],\n",
       "        [1.75418988e+02, 1.44576089e+00, 1.21299338e+03, 3.20476996e+02,\n",
       "         1.34937683e+01, 1.40817110e+03]]))"
      ]
     },
     "metadata": {},
     "output_type": "display_data"
    },
    {
     "name": "stdout",
     "output_type": "stream",
     "text": [
      "--->cap-shape Chi Squared P-value:--->  4.9782534643623335e-84 \n",
      "\n",
      "\n",
      "\n",
      "----------cap-surface Contingency Table ----------- \n",
      "\n",
      "cap-surface     f  g     s     y\n",
      "outcome                         \n",
      "e            1254  0   931  1182\n",
      "p             595  3  1123  1411\n",
      " \n",
      "----------cap-surface Chi Squared-----------\n"
     ]
    },
    {
     "data": {
      "text/plain": [
       "(267.89774548726643,\n",
       " 8.795903191804824e-58,\n",
       " 3,\n",
       " array([[ 957.92937375,    1.55423911, 1064.13571319, 1343.38067395],\n",
       "        [ 891.07062625,    1.44576089,  989.86428681, 1249.61932605]]))"
      ]
     },
     "metadata": {},
     "output_type": "display_data"
    },
    {
     "name": "stdout",
     "output_type": "stream",
     "text": [
      "--->cap-surface Chi Squared P-value:--->  8.795903191804824e-58 \n",
      "\n",
      "\n",
      "\n",
      "----------cap-color Contingency Table ----------- \n",
      "\n",
      "cap-color    b   c    e    g     n   p   r   u    w    y\n",
      "outcome                                                 \n",
      "e           36  26  495  804  1032  49  13  12  575  325\n",
      "p          102  10  706  630   817  68   0   0  258  541\n",
      " \n",
      "----------cap-color Chi Squared-----------\n"
     ]
    },
    {
     "data": {
      "text/plain": [
       "(316.3712488874609,\n",
       " 8.748847400390375e-63,\n",
       " 9,\n",
       " array([[ 71.49499923,  18.65086936, 622.21372519, 742.92629635,\n",
       "         957.92937375,  60.61532543,   6.73503616,   6.21695645,\n",
       "         431.56039391, 448.65702416],\n",
       "        [ 66.50500077,  17.34913064, 578.78627481, 691.07370365,\n",
       "         891.07062625,  56.38467457,   6.26496384,   5.78304355,\n",
       "         401.43960609, 417.34297584]]))"
      ]
     },
     "metadata": {},
     "output_type": "display_data"
    },
    {
     "name": "stdout",
     "output_type": "stream",
     "text": [
      "--->cap-color Chi Squared P-value:--->  8.748847400390375e-63 \n",
      "\n",
      "\n",
      "\n",
      "----------bruises Contingency Table ----------- \n",
      "\n",
      "bruises     f     t\n",
      "outcome            \n",
      "e        1183  2184\n",
      "p        2615   517\n",
      " \n",
      "----------bruises Chi Squared-----------\n"
     ]
    },
    {
     "data": {
      "text/plain": [
       "(1560.3140103024512,\n",
       " 0.0,\n",
       " 1,\n",
       " array([[1967.66671796, 1399.33328204],\n",
       "        [1830.33328204, 1301.66671796]]))"
      ]
     },
     "metadata": {},
     "output_type": "display_data"
    },
    {
     "name": "stdout",
     "output_type": "stream",
     "text": [
      "--->bruises Chi Squared P-value:--->  0.0 \n",
      "\n",
      "\n",
      "\n",
      "----------odor Contingency Table ----------- \n",
      "\n",
      "odor       a    c     f    l   m     n    p    s    y\n",
      "outcome                                              \n",
      "e        324    0     0  320   0  2723    0    0    0\n",
      "p          0  146  1724    0  29    98  212  455  468\n",
      " \n",
      "----------odor Chi Squared-----------\n"
     ]
    },
    {
     "data": {
      "text/plain": [
       "(6120.122482563785,\n",
       " 0.0,\n",
       " 8,\n",
       " array([[ 167.85782428,   75.63963687,  893.16941068,  165.78550546,\n",
       "           15.02431143, 1461.50284659,  109.83289737,  235.72626558,\n",
       "          242.46130174],\n",
       "        [ 156.14217572,   70.36036313,  830.83058932,  154.21449454,\n",
       "           13.97568857, 1359.49715341,  102.16710263,  219.27373442,\n",
       "          225.53869826]]))"
      ]
     },
     "metadata": {},
     "output_type": "display_data"
    },
    {
     "name": "stdout",
     "output_type": "stream",
     "text": [
      "--->odor Chi Squared P-value:--->  0.0 \n",
      "\n",
      "\n",
      "\n",
      "----------gill-attachment Contingency Table ----------- \n",
      "\n",
      "gill-attachment    a     f\n",
      "outcome                   \n",
      "e                165  3202\n",
      "p                 16  3116\n",
      " \n",
      "----------gill-attachment Chi Squared-----------\n"
     ]
    },
    {
     "data": {
      "text/plain": [
       "(113.86599925652082,\n",
       " 1.394189133649505e-26,\n",
       " 1,\n",
       " array([[  93.77242653, 3273.22757347],\n",
       "        [  87.22757347, 3044.77242653]]))"
      ]
     },
     "metadata": {},
     "output_type": "display_data"
    },
    {
     "name": "stdout",
     "output_type": "stream",
     "text": [
      "--->gill-attachment Chi Squared P-value:--->  1.394189133649505e-26 \n",
      "\n",
      "\n",
      "\n",
      "----------gill-spacing Contingency Table ----------- \n",
      "\n",
      "gill-spacing     c    w\n",
      "outcome                \n",
      "e             2404  963\n",
      "p             3042   90\n",
      " \n",
      "----------gill-spacing Chi Squared-----------\n"
     ]
    },
    {
     "data": {
      "text/plain": [
       "(789.1541330063818,\n",
       " 1.230744431276688e-173,\n",
       " 1,\n",
       " array([[2821.46207109,  545.53792891],\n",
       "        [2624.53792891,  507.46207109]]))"
      ]
     },
     "metadata": {},
     "output_type": "display_data"
    },
    {
     "name": "stdout",
     "output_type": "stream",
     "text": [
      "--->gill-spacing Chi Squared P-value:--->  1.230744431276688e-173 \n",
      "\n",
      "\n",
      "\n",
      "----------gill-size Contingency Table ----------- \n",
      "\n",
      "gill-size     b     n\n",
      "outcome              \n",
      "e          3134   233\n",
      "p          1356  1776\n",
      " \n",
      "----------gill-size Chi Squared-----------\n"
     ]
    },
    {
     "data": {
      "text/plain": [
       "(1880.798086646908,\n",
       " 0.0,\n",
       " 1,\n",
       " array([[2326.17787352, 1040.82212648],\n",
       "        [2163.82212648,  968.17787352]]))"
      ]
     },
     "metadata": {},
     "output_type": "display_data"
    },
    {
     "name": "stdout",
     "output_type": "stream",
     "text": [
      "--->gill-size Chi Squared P-value:--->  0.0 \n",
      "\n",
      "\n",
      "\n",
      "----------gill-color Contingency Table ----------- \n",
      "\n",
      "gill-color     b   e    g    h    k    n   o    p   r    u    w   y\n",
      "outcome                                                            \n",
      "e              0  79  203  167  265  749  54  685   0  351  758  56\n",
      "p           1382   0  392  434   56   96   0  501  21   36  195  19\n",
      " \n",
      "----------gill-color Chi Squared-----------\n"
     ]
    },
    {
     "data": {
      "text/plain": [
       "(2986.56030647507,\n",
       " 0.0,\n",
       " 11,\n",
       " array([[715.98615172,  40.92829666, 308.25742422, 311.36590245,\n",
       "         166.30358517, 437.77735036,  27.97630405, 614.44252962,\n",
       "          10.8796738 , 200.49684567, 493.72995846,  38.85597784],\n",
       "        [666.01384828,  38.07170334, 286.74257578, 289.63409755,\n",
       "         154.69641483, 407.22264964,  26.02369595, 571.55747038,\n",
       "          10.1203262 , 186.50315433, 459.27004154,  36.14402216]]))"
      ]
     },
     "metadata": {},
     "output_type": "display_data"
    },
    {
     "name": "stdout",
     "output_type": "stream",
     "text": [
      "--->gill-color Chi Squared P-value:--->  0.0 \n",
      "\n",
      "\n",
      "\n",
      "----------stalk-shape Contingency Table ----------- \n",
      "\n",
      "stalk-shape     e     t\n",
      "outcome                \n",
      "e            1316  2051\n",
      "p            1514  1618\n",
      " \n",
      "----------stalk-shape Chi Squared-----------\n"
     ]
    },
    {
     "data": {
      "text/plain": [
       "(56.154474404835724,\n",
       " 6.699496401158025e-14,\n",
       " 1,\n",
       " array([[1466.16556393, 1900.83443607],\n",
       "        [1363.83443607, 1768.16556393]]))"
      ]
     },
     "metadata": {},
     "output_type": "display_data"
    },
    {
     "name": "stdout",
     "output_type": "stream",
     "text": [
      "--->stalk-shape Chi Squared P-value:--->  6.699496401158025e-14 \n",
      "\n",
      "\n",
      "\n",
      "----------stalk-root Contingency Table ----------- \n",
      "\n",
      "stalk-root     ?     b    c    e    r\n",
      "outcome                              \n",
      "e            593  1509  414  698  153\n",
      "p           1405  1480   35  212    0\n",
      " \n",
      "----------stalk-root Chi Squared-----------\n"
     ]
    },
    {
     "data": {
      "text/plain": [
       "(1055.6353363582693,\n",
       " 3.126116909366243e-227,\n",
       " 4,\n",
       " array([[1035.12324973, 1548.54023696,  232.61778735,  471.45253116,\n",
       "           79.2661948 ],\n",
       "        [ 962.87675027, 1440.45976304,  216.38221265,  438.54746884,\n",
       "           73.7338052 ]]))"
      ]
     },
     "metadata": {},
     "output_type": "display_data"
    },
    {
     "name": "stdout",
     "output_type": "stream",
     "text": [
      "--->stalk-root Chi Squared P-value:--->  3.126116909366243e-227 \n",
      "\n",
      "\n",
      "\n",
      "----------stalk-surface-above-ring Contingency Table ----------- \n",
      "\n",
      "stalk-surface-above-ring    f     k     s   y\n",
      "outcome                                      \n",
      "e                         324   119  2911  13\n",
      "p                         120  1774  1232   6\n",
      " \n",
      "----------stalk-surface-above-ring Chi Squared-----------\n"
     ]
    },
    {
     "data": {
      "text/plain": [
       "(2218.0689303344357,\n",
       " 0.0,\n",
       " 3,\n",
       " array([[ 230.02738883,  980.72488075, 2146.40421603,    9.84351439],\n",
       "        [ 213.97261117,  912.27511925, 1996.59578397,    9.15648561]]))"
      ]
     },
     "metadata": {},
     "output_type": "display_data"
    },
    {
     "name": "stdout",
     "output_type": "stream",
     "text": [
      "--->stalk-surface-above-ring Chi Squared P-value:--->  0.0 \n",
      "\n",
      "\n",
      "\n",
      "----------stalk-surface-below-ring Contingency Table ----------- \n",
      "\n",
      "stalk-surface-below-ring    f     k     s    y\n",
      "outcome                                       \n",
      "e                         375   116  2710  166\n",
      "p                         114  1728  1232   58\n",
      " \n",
      "----------stalk-surface-below-ring Chi Squared-----------\n"
     ]
    },
    {
     "data": {
      "text/plain": [
       "(2149.0355720950865,\n",
       " 0.0,\n",
       " 3,\n",
       " array([[ 253.34097553,  955.33897523, 2042.27019541,  116.04985382],\n",
       "        [ 235.65902447,  888.66102477, 1899.72980459,  107.95014618]]))"
      ]
     },
     "metadata": {},
     "output_type": "display_data"
    },
    {
     "name": "stdout",
     "output_type": "stream",
     "text": [
      "--->stalk-surface-below-ring Chi Squared P-value:--->  0.0 \n",
      "\n",
      "\n",
      "\n",
      "----------stalk-color-above-ring Contingency Table ----------- \n",
      "\n",
      "stalk-color-above-ring    b   c   e    g    n    o     p     w  y\n",
      "outcome                                                          \n",
      "e                         0   0  81  450   13  165   459  2199  0\n",
      "p                       339  29   0    0  345    0  1043  1370  6\n",
      " \n",
      "----------stalk-color-above-ring Chi Squared-----------\n"
     ]
    },
    {
     "data": {
      "text/plain": [
       "(1791.3593436699055,\n",
       " 0.0,\n",
       " 8,\n",
       " array([[ 175.62901985,   15.02431143,   41.96445607,  233.13586706,\n",
       "          185.47253424,   85.48315125,  778.15571626, 1849.02646561,\n",
       "            3.10847823],\n",
       "        [ 163.37098015,   13.97568857,   39.03554393,  216.86413294,\n",
       "          172.52746576,   79.51684875,  723.84428374, 1719.97353439,\n",
       "            2.89152177]]))"
      ]
     },
     "metadata": {},
     "output_type": "display_data"
    },
    {
     "name": "stdout",
     "output_type": "stream",
     "text": [
      "--->stalk-color-above-ring Chi Squared P-value:--->  0.0 \n",
      "\n",
      "\n",
      "\n",
      "----------stalk-color-below-ring Contingency Table ----------- \n",
      "\n",
      "stalk-color-below-ring    b   c   e    g    n    o     p     w   y\n",
      "outcome                                                           \n",
      "e                         0   0  80  436   50  165   449  2187   0\n",
      "p                       348  29   0    0  347    0  1052  1341  15\n",
      " \n",
      "----------stalk-color-below-ring Chi Squared-----------\n"
     ]
    },
    {
     "data": {
      "text/plain": [
       "(1734.0706086281318,\n",
       " 0.0,\n",
       " 8,\n",
       " array([[ 180.29173719,   15.02431143,   41.44637637,  225.88275119,\n",
       "          205.67764271,   85.48315125,  777.63763656, 1827.78519772,\n",
       "            7.77119557],\n",
       "        [ 167.70826281,   13.97568857,   38.55362363,  210.11724881,\n",
       "          191.32235729,   79.51684875,  723.36236344, 1700.21480228,\n",
       "            7.22880443]]))"
      ]
     },
     "metadata": {},
     "output_type": "display_data"
    },
    {
     "name": "stdout",
     "output_type": "stream",
     "text": [
      "--->stalk-color-below-ring Chi Squared P-value:--->  0.0 \n",
      "\n",
      "\n",
      "\n",
      "----------veil-type Contingency Table ----------- \n",
      "\n",
      "veil-type     p\n",
      "outcome        \n",
      "e          3367\n",
      "p          3132\n",
      " \n",
      "----------veil-type Chi Squared-----------\n"
     ]
    },
    {
     "data": {
      "text/plain": [
       "(0.0,\n",
       " 1.0,\n",
       " 0,\n",
       " array([[3367.],\n",
       "        [3132.]]))"
      ]
     },
     "metadata": {},
     "output_type": "display_data"
    },
    {
     "name": "stdout",
     "output_type": "stream",
     "text": [
      "--->veil-type Chi Squared P-value:--->  1.0 \n",
      "\n",
      "\n",
      "\n",
      "----------veil-color Contingency Table ----------- \n",
      "\n",
      "veil-color   n   o     w  y\n",
      "outcome                    \n",
      "e           82  83  3202  0\n",
      "p            0   0  3126  6\n",
      " \n",
      "----------veil-color Chi Squared-----------\n"
     ]
    },
    {
     "data": {
      "text/plain": [
       "(163.62925321750356,\n",
       " 3.0189775608445934e-35,\n",
       " 3,\n",
       " array([[4.24825358e+01, 4.30006155e+01, 3.27840837e+03, 3.10847823e+00],\n",
       "        [3.95174642e+01, 3.99993845e+01, 3.04959163e+03, 2.89152177e+00]]))"
      ]
     },
     "metadata": {},
     "output_type": "display_data"
    },
    {
     "name": "stdout",
     "output_type": "stream",
     "text": [
      "--->veil-color Chi Squared P-value:--->  3.0189775608445934e-35 \n",
      "\n",
      "\n",
      "\n",
      "----------ring-number Contingency Table ----------- \n",
      "\n",
      "ring-number   n     o    t\n",
      "outcome                   \n",
      "e             0  2939  428\n",
      "p            29  3041   62\n",
      " \n",
      "----------ring-number Chi Squared-----------\n"
     ]
    },
    {
     "data": {
      "text/plain": [
       "(296.0089625879048,\n",
       " 5.278013261410891e-65,\n",
       " 2,\n",
       " array([[  15.02431143, 3098.11663333,  253.85905524],\n",
       "        [  13.97568857, 2881.88336667,  236.14094476]]))"
      ]
     },
     "metadata": {},
     "output_type": "display_data"
    },
    {
     "name": "stdout",
     "output_type": "stream",
     "text": [
      "--->ring-number Chi Squared P-value:--->  5.278013261410891e-65 \n",
      "\n",
      "\n",
      "\n",
      "----------ring-type Contingency Table ----------- \n",
      "\n",
      "ring-type     e   f     l   n     p\n",
      "outcome                            \n",
      "e           812  38     0   0  2517\n",
      "p          1411   0  1029  29   663\n",
      " \n",
      "----------ring-type Chi Squared-----------\n"
     ]
    },
    {
     "data": {
      "text/plain": [
       "(2332.8737176783734,\n",
       " 0.0,\n",
       " 4,\n",
       " array([[1151.69118326,   19.68702877,  533.104016  ,   15.02431143,\n",
       "         1647.49346053],\n",
       "        [1071.30881674,   18.31297123,  495.895984  ,   13.97568857,\n",
       "         1532.50653947]]))"
      ]
     },
     "metadata": {},
     "output_type": "display_data"
    },
    {
     "name": "stdout",
     "output_type": "stream",
     "text": [
      "--->ring-type Chi Squared P-value:--->  0.0 \n",
      "\n",
      "\n",
      "\n",
      "----------spore-print-color Contingency Table ----------- \n",
      "\n",
      "spore-print-color   b     h     k     n   o   r   u     w   y\n",
      "outcome                                                      \n",
      "e                  35    38  1320  1386  41   0  38   465  44\n",
      "p                   0  1265   183   175   0  62   0  1447   0\n",
      " \n",
      "----------spore-print-color Chi Squared-----------\n"
     ]
    },
    {
     "data": {
      "text/plain": [
       "(3675.6960105194607,\n",
       " 0.0,\n",
       " 8,\n",
       " array([[ 18.13278966, 675.05785505, 778.67379597, 808.72241883,\n",
       "          21.24126789,  32.12094168,  19.68702877, 990.56839514,\n",
       "          22.795507  ],\n",
       "        [ 16.86721034, 627.94214495, 724.32620403, 752.27758117,\n",
       "          19.75873211,  29.87905832,  18.31297123, 921.43160486,\n",
       "          21.204493  ]]))"
      ]
     },
     "metadata": {},
     "output_type": "display_data"
    },
    {
     "name": "stdout",
     "output_type": "stream",
     "text": [
      "--->spore-print-color Chi Squared P-value:--->  0.0 \n",
      "\n",
      "\n",
      "\n",
      "----------population Contingency Table ----------- \n",
      "\n",
      "population    a    c    n    s     v    y\n",
      "outcome                                  \n",
      "e           304  238  329  709   953  834\n",
      "p             0   42    0  300  2275  515\n",
      " \n",
      "----------population Chi Squared-----------\n"
     ]
    },
    {
     "data": {
      "text/plain": [
       "(1546.3615853742983,\n",
       " 0.0,\n",
       " 5,\n",
       " array([[ 157.49623019,  145.06231728,  170.4482228 ,  522.74242191,\n",
       "         1672.36128635,  698.88952146],\n",
       "        [ 146.50376981,  134.93768272,  158.5517772 ,  486.25757809,\n",
       "         1555.63871365,  650.11047854]]))"
      ]
     },
     "metadata": {},
     "output_type": "display_data"
    },
    {
     "name": "stdout",
     "output_type": "stream",
     "text": [
      "--->population Chi Squared P-value:--->  0.0 \n",
      "\n",
      "\n",
      "\n",
      "----------habitat Contingency Table ----------- \n",
      "\n",
      "habitat     d     g    l    m    p    u    w\n",
      "outcome                                     \n",
      "e        1479  1137  202  199  111   81  158\n",
      "p        1000   592  469   31  810  230    0\n",
      " \n",
      "----------habitat Chi Squared-----------\n"
     ]
    },
    {
     "data": {
      "text/plain": [
       "(1246.3292395552014,\n",
       " 4.493799868624631e-266,\n",
       " 6,\n",
       " array([[1284.31958763,  895.7598092 ,  347.63148177,  119.15833205,\n",
       "          477.15140791,  161.12278812,   81.85659332],\n",
       "        [1194.68041237,  833.2401908 ,  323.36851823,  110.84166795,\n",
       "          443.84859209,  149.87721188,   76.14340668]]))"
      ]
     },
     "metadata": {},
     "output_type": "display_data"
    },
    {
     "name": "stdout",
     "output_type": "stream",
     "text": [
      "--->habitat Chi Squared P-value:--->  4.493799868624631e-266 \n",
      "\n",
      "\n",
      "\n"
     ]
    }
   ],
   "source": [
    "from scipy.stats import chi2_contingency #to help choose features\n",
    "\n",
    "colNamesCheck=['cap-shape','cap-surface','cap-color','bruises','odor','gill-attachment',\n",
    "          'gill-spacing','gill-size','gill-color','stalk-shape','stalk-root','stalk-surface-above-ring',\n",
    "          'stalk-surface-below-ring','stalk-color-above-ring','stalk-color-below-ring','veil-type',\n",
    "          'veil-color','ring-number','ring-type','spore-print-color','population','habitat']\n",
    "\n",
    "\n",
    "\n",
    "print(\"\\n\\n--------------------------------Chi Squared Contingency Tables--------------------------------\\n\\n\")\n",
    "#Output frequency tables for catagorical data:\n",
    "for x in colNamesCheck:\n",
    "    dataCT = pd.crosstab(dataframe['outcome'], dataframe[x])\n",
    "    print(\"----------\" + x + \" Contingency Table ----------- \\n\")\n",
    "    print(dataCT)\n",
    "    \n",
    "    print(\" \\n----------\" + x + \" Chi Squared-----------\")\n",
    "    chi = chi2_contingency(dataCT)\n",
    "    display(chi)\n",
    "    print(\"--->\" + x + \" Chi Squared P-value:---> \", chi[1], \"\\n\\n\\n\")"
   ]
  },
  {
   "cell_type": "code",
   "execution_count": 3,
   "id": "b1650adb",
   "metadata": {
    "scrolled": false
   },
   "outputs": [
    {
     "data": {
      "text/html": [
       "<div>\n",
       "<style scoped>\n",
       "    .dataframe tbody tr th:only-of-type {\n",
       "        vertical-align: middle;\n",
       "    }\n",
       "\n",
       "    .dataframe tbody tr th {\n",
       "        vertical-align: top;\n",
       "    }\n",
       "\n",
       "    .dataframe thead th {\n",
       "        text-align: right;\n",
       "    }\n",
       "</style>\n",
       "<table border=\"1\" class=\"dataframe\">\n",
       "  <thead>\n",
       "    <tr style=\"text-align: right;\">\n",
       "      <th></th>\n",
       "      <th>outcome</th>\n",
       "      <th>bruises</th>\n",
       "      <th>gill-attachment</th>\n",
       "      <th>gill-spacing</th>\n",
       "      <th>gill-size</th>\n",
       "      <th>stalk-surface-above-ring_f</th>\n",
       "      <th>stalk-surface-above-ring_k</th>\n",
       "      <th>stalk-surface-above-ring_s</th>\n",
       "      <th>stalk-surface-above-ring_y</th>\n",
       "      <th>stalk-surface-below-ring_f</th>\n",
       "      <th>stalk-surface-below-ring_k</th>\n",
       "      <th>stalk-surface-below-ring_s</th>\n",
       "      <th>stalk-surface-below-ring_y</th>\n",
       "    </tr>\n",
       "  </thead>\n",
       "  <tbody>\n",
       "    <tr>\n",
       "      <th>2526</th>\n",
       "      <td>-1</td>\n",
       "      <td>1</td>\n",
       "      <td>0</td>\n",
       "      <td>1</td>\n",
       "      <td>1</td>\n",
       "      <td>0</td>\n",
       "      <td>0</td>\n",
       "      <td>1</td>\n",
       "      <td>0</td>\n",
       "      <td>0</td>\n",
       "      <td>0</td>\n",
       "      <td>1</td>\n",
       "      <td>0</td>\n",
       "    </tr>\n",
       "    <tr>\n",
       "      <th>3130</th>\n",
       "      <td>-1</td>\n",
       "      <td>1</td>\n",
       "      <td>0</td>\n",
       "      <td>1</td>\n",
       "      <td>1</td>\n",
       "      <td>0</td>\n",
       "      <td>0</td>\n",
       "      <td>1</td>\n",
       "      <td>0</td>\n",
       "      <td>0</td>\n",
       "      <td>0</td>\n",
       "      <td>1</td>\n",
       "      <td>0</td>\n",
       "    </tr>\n",
       "    <tr>\n",
       "      <th>3766</th>\n",
       "      <td>-1</td>\n",
       "      <td>1</td>\n",
       "      <td>0</td>\n",
       "      <td>1</td>\n",
       "      <td>1</td>\n",
       "      <td>0</td>\n",
       "      <td>0</td>\n",
       "      <td>1</td>\n",
       "      <td>0</td>\n",
       "      <td>0</td>\n",
       "      <td>0</td>\n",
       "      <td>1</td>\n",
       "      <td>0</td>\n",
       "    </tr>\n",
       "    <tr>\n",
       "      <th>6835</th>\n",
       "      <td>1</td>\n",
       "      <td>0</td>\n",
       "      <td>0</td>\n",
       "      <td>1</td>\n",
       "      <td>0</td>\n",
       "      <td>0</td>\n",
       "      <td>1</td>\n",
       "      <td>0</td>\n",
       "      <td>0</td>\n",
       "      <td>0</td>\n",
       "      <td>1</td>\n",
       "      <td>0</td>\n",
       "      <td>0</td>\n",
       "    </tr>\n",
       "    <tr>\n",
       "      <th>2262</th>\n",
       "      <td>-1</td>\n",
       "      <td>1</td>\n",
       "      <td>0</td>\n",
       "      <td>1</td>\n",
       "      <td>1</td>\n",
       "      <td>0</td>\n",
       "      <td>0</td>\n",
       "      <td>1</td>\n",
       "      <td>0</td>\n",
       "      <td>0</td>\n",
       "      <td>0</td>\n",
       "      <td>1</td>\n",
       "      <td>0</td>\n",
       "    </tr>\n",
       "    <tr>\n",
       "      <th>...</th>\n",
       "      <td>...</td>\n",
       "      <td>...</td>\n",
       "      <td>...</td>\n",
       "      <td>...</td>\n",
       "      <td>...</td>\n",
       "      <td>...</td>\n",
       "      <td>...</td>\n",
       "      <td>...</td>\n",
       "      <td>...</td>\n",
       "      <td>...</td>\n",
       "      <td>...</td>\n",
       "      <td>...</td>\n",
       "      <td>...</td>\n",
       "    </tr>\n",
       "    <tr>\n",
       "      <th>5302</th>\n",
       "      <td>-1</td>\n",
       "      <td>0</td>\n",
       "      <td>0</td>\n",
       "      <td>1</td>\n",
       "      <td>0</td>\n",
       "      <td>0</td>\n",
       "      <td>0</td>\n",
       "      <td>1</td>\n",
       "      <td>0</td>\n",
       "      <td>1</td>\n",
       "      <td>0</td>\n",
       "      <td>0</td>\n",
       "      <td>0</td>\n",
       "    </tr>\n",
       "    <tr>\n",
       "      <th>2500</th>\n",
       "      <td>-1</td>\n",
       "      <td>0</td>\n",
       "      <td>0</td>\n",
       "      <td>0</td>\n",
       "      <td>1</td>\n",
       "      <td>1</td>\n",
       "      <td>0</td>\n",
       "      <td>0</td>\n",
       "      <td>0</td>\n",
       "      <td>1</td>\n",
       "      <td>0</td>\n",
       "      <td>0</td>\n",
       "      <td>0</td>\n",
       "    </tr>\n",
       "    <tr>\n",
       "      <th>3801</th>\n",
       "      <td>1</td>\n",
       "      <td>0</td>\n",
       "      <td>0</td>\n",
       "      <td>1</td>\n",
       "      <td>0</td>\n",
       "      <td>0</td>\n",
       "      <td>0</td>\n",
       "      <td>1</td>\n",
       "      <td>0</td>\n",
       "      <td>0</td>\n",
       "      <td>0</td>\n",
       "      <td>1</td>\n",
       "      <td>0</td>\n",
       "    </tr>\n",
       "    <tr>\n",
       "      <th>7415</th>\n",
       "      <td>-1</td>\n",
       "      <td>1</td>\n",
       "      <td>0</td>\n",
       "      <td>1</td>\n",
       "      <td>1</td>\n",
       "      <td>0</td>\n",
       "      <td>0</td>\n",
       "      <td>1</td>\n",
       "      <td>0</td>\n",
       "      <td>0</td>\n",
       "      <td>0</td>\n",
       "      <td>1</td>\n",
       "      <td>0</td>\n",
       "    </tr>\n",
       "    <tr>\n",
       "      <th>7241</th>\n",
       "      <td>1</td>\n",
       "      <td>0</td>\n",
       "      <td>0</td>\n",
       "      <td>1</td>\n",
       "      <td>0</td>\n",
       "      <td>0</td>\n",
       "      <td>0</td>\n",
       "      <td>1</td>\n",
       "      <td>0</td>\n",
       "      <td>0</td>\n",
       "      <td>1</td>\n",
       "      <td>0</td>\n",
       "      <td>0</td>\n",
       "    </tr>\n",
       "  </tbody>\n",
       "</table>\n",
       "<p>6499 rows × 13 columns</p>\n",
       "</div>"
      ],
      "text/plain": [
       "      outcome  bruises  gill-attachment  gill-spacing  gill-size  \\\n",
       "2526       -1        1                0             1          1   \n",
       "3130       -1        1                0             1          1   \n",
       "3766       -1        1                0             1          1   \n",
       "6835        1        0                0             1          0   \n",
       "2262       -1        1                0             1          1   \n",
       "...       ...      ...              ...           ...        ...   \n",
       "5302       -1        0                0             1          0   \n",
       "2500       -1        0                0             0          1   \n",
       "3801        1        0                0             1          0   \n",
       "7415       -1        1                0             1          1   \n",
       "7241        1        0                0             1          0   \n",
       "\n",
       "      stalk-surface-above-ring_f  stalk-surface-above-ring_k  \\\n",
       "2526                           0                           0   \n",
       "3130                           0                           0   \n",
       "3766                           0                           0   \n",
       "6835                           0                           1   \n",
       "2262                           0                           0   \n",
       "...                          ...                         ...   \n",
       "5302                           0                           0   \n",
       "2500                           1                           0   \n",
       "3801                           0                           0   \n",
       "7415                           0                           0   \n",
       "7241                           0                           0   \n",
       "\n",
       "      stalk-surface-above-ring_s  stalk-surface-above-ring_y  \\\n",
       "2526                           1                           0   \n",
       "3130                           1                           0   \n",
       "3766                           1                           0   \n",
       "6835                           0                           0   \n",
       "2262                           1                           0   \n",
       "...                          ...                         ...   \n",
       "5302                           1                           0   \n",
       "2500                           0                           0   \n",
       "3801                           1                           0   \n",
       "7415                           1                           0   \n",
       "7241                           1                           0   \n",
       "\n",
       "      stalk-surface-below-ring_f  stalk-surface-below-ring_k  \\\n",
       "2526                           0                           0   \n",
       "3130                           0                           0   \n",
       "3766                           0                           0   \n",
       "6835                           0                           1   \n",
       "2262                           0                           0   \n",
       "...                          ...                         ...   \n",
       "5302                           1                           0   \n",
       "2500                           1                           0   \n",
       "3801                           0                           0   \n",
       "7415                           0                           0   \n",
       "7241                           0                           1   \n",
       "\n",
       "      stalk-surface-below-ring_s  stalk-surface-below-ring_y  \n",
       "2526                           1                           0  \n",
       "3130                           1                           0  \n",
       "3766                           1                           0  \n",
       "6835                           0                           0  \n",
       "2262                           1                           0  \n",
       "...                          ...                         ...  \n",
       "5302                           0                           0  \n",
       "2500                           0                           0  \n",
       "3801                           1                           0  \n",
       "7415                           1                           0  \n",
       "7241                           0                           0  \n",
       "\n",
       "[6499 rows x 13 columns]"
      ]
     },
     "metadata": {},
     "output_type": "display_data"
    }
   ],
   "source": [
    "reducedCols=['outcome','bruises','gill-attachment','gill-spacing','gill-size','stalk-surface-above-ring',\n",
    "               'stalk-surface-below-ring']\n",
    "\n",
    "#to change the two binary categories to 0 and 1 from chars.\n",
    "def binaryCat(x):\n",
    "    if x == 't' or  x == 'b' or  x == 'a' or  x == 'p' or  x == 'c':\n",
    "        x = 1\n",
    "    elif x == 'f' or  x == 'n' or  x == 'w':\n",
    "         x = 0\n",
    "    elif  x == 'e':\n",
    "         x = -1;\n",
    "    return x\n",
    "\n",
    "reducedData = pd.read_csv('https://archive.ics.uci.edu/ml/machine-learning-databases/mushroom/agaricus-lepiota.data',\n",
    "                         names=colNames,usecols=reducedCols, converters={'outcome': binaryCat,\n",
    "                                                                         'bruises': binaryCat,\n",
    "                                                                         'gill-size' : binaryCat,\n",
    "                                                                         'gill-attachment' : binaryCat,\n",
    "                                                                         'gill-spacing' : binaryCat })\n",
    "\n",
    "#80/20 split\n",
    "from sklearn.model_selection import train_test_split\n",
    "DataSplit = train_test_split(reducedData, test_size=0.2, random_state=11022017)\n",
    "trainData, testData = DataSplit\n",
    "\n",
    "rdf = pd.DataFrame(trainData)\n",
    "rdftest = pd.DataFrame(testData)\n",
    "\n",
    "rdfdum = pd.get_dummies(rdf)\n",
    "rdfdumtest = pd.get_dummies(rdftest)\n",
    "\n",
    "display(rdfdum)\n"
   ]
  },
  {
   "cell_type": "code",
   "execution_count": 4,
   "id": "2fc58ab5",
   "metadata": {},
   "outputs": [],
   "source": [
    "features=['bruises','gill-attachment','gill-spacing','gill-size','stalk-surface-above-ring_f',\n",
    "          'stalk-surface-above-ring_k','stalk-surface-above-ring_s', 'stalk-surface-below-ring_f',\n",
    "          'stalk-surface-below-ring_k', 'stalk-surface-below-ring_s']\n",
    "\n",
    "#export features data files for java input\n",
    "rdfdum.to_csv('rdfdum-train-features.csv', columns=features, index=False, header=False)\n",
    "rdfdumtest.to_csv('rdfdum-test-features.csv', columns=features, index=False, header=False)"
   ]
  },
  {
   "cell_type": "code",
   "execution_count": 5,
   "id": "6b8bd74a",
   "metadata": {},
   "outputs": [],
   "source": [
    "#export target data files for java input\n",
    "rdfdumtest.to_csv('rdfdum-test-targets.csv', columns=['outcome'], index=False,  header=False)\n",
    "rdfdum.to_csv('rdfdum-train-targets.csv', columns=['outcome'], index=False,  header=False)"
   ]
  },
  {
   "cell_type": "code",
   "execution_count": 6,
   "id": "612c9a05",
   "metadata": {},
   "outputs": [
    {
     "name": "stdout",
     "output_type": "stream",
     "text": [
      "Visualizing the data\n"
     ]
    },
    {
     "data": {
      "image/png": "[encoded data removed]",
      "text/plain": [
       "<Figure size 640x480 with 1 Axes>"
      ]
     },
     "metadata": {},
     "output_type": "display_data"
    }
   ],
   "source": [
    "print(\"Visualizing the data\")\n",
    "\n",
    "features = (\n",
    "    \"Gill Attached\",\n",
    "    \"Gill Free\",\n",
    ")\n",
    "weight_counts = {\n",
    "    \"edible\": np.array([3202, 165]),\n",
    "    \"poison\": np.array([3116, 16]),\n",
    "}\n",
    "width = 0.5\n",
    "\n",
    "fig, ax = plt.subplots()\n",
    "bottom = np.zeros(2)\n",
    "\n",
    "for boolean, weight_count in weight_counts.items():\n",
    "    p = ax.bar(features, weight_count, width, label=boolean, bottom=bottom)\n",
    "    bottom += weight_count\n",
    "\n",
    "ax.set_title(\"Gill Attachment\")\n",
    "ax.legend(loc=\"upper right\")\n",
    "plt.show()"
   ]
  },
  {
   "cell_type": "code",
   "execution_count": 7,
   "id": "96792c9a",
   "metadata": {},
   "outputs": [
    {
     "data": {
      "image/png": "[encoded data removed]",
      "text/plain": [
       "<Figure size 640x480 with 1 Axes>"
      ]
     },
     "metadata": {},
     "output_type": "display_data"
    }
   ],
   "source": [
    "features = (\n",
    "    \"Bruised\",\n",
    "    \"No Bruises\",\n",
    ")\n",
    "weight_counts = {\n",
    "    \"edible\": np.array([1183, 2184]),\n",
    "    \"poison\": np.array([2615, 517]),\n",
    "}\n",
    "width = 0.5\n",
    "\n",
    "fig, ax = plt.subplots()\n",
    "bottom = np.zeros(2)\n",
    "\n",
    "for boolean, weight_count in weight_counts.items():\n",
    "    p = ax.bar(features, weight_count, width, label=boolean, bottom=bottom)\n",
    "    bottom += weight_count\n",
    "\n",
    "ax.set_title(\"Bruises\")\n",
    "ax.legend(loc=\"upper right\")\n",
    "plt.show()"
   ]
  },
  {
   "cell_type": "code",
   "execution_count": 8,
   "id": "0ea12793",
   "metadata": {},
   "outputs": [
    {
     "data": {
      "image/png": "[encoded data removed]",
      "text/plain": [
       "<Figure size 640x480 with 1 Axes>"
      ]
     },
     "metadata": {},
     "output_type": "display_data"
    }
   ],
   "source": [
    "features = (\n",
    "    \"Gill Size Broad\",\n",
    "    \"Gill Size Narrow\",\n",
    ")\n",
    "weight_counts = {\n",
    "    \"edible\": np.array([3134, 233]),\n",
    "    \"poison\": np.array([1356, 1776]),\n",
    "}\n",
    "width = 0.5\n",
    "\n",
    "fig, ax = plt.subplots()\n",
    "bottom = np.zeros(2)\n",
    "\n",
    "for boolean, weight_count in weight_counts.items():\n",
    "    p = ax.bar(features, weight_count, width, label=boolean, bottom=bottom)\n",
    "    bottom += weight_count\n",
    "\n",
    "ax.set_title(\"Gill Size\")\n",
    "ax.legend(loc=\"upper right\")\n",
    "plt.show()"
   ]
  },
  {
   "cell_type": "code",
   "execution_count": 9,
   "id": "ae1c6a41",
   "metadata": {},
   "outputs": [
    {
     "data": {
      "image/png": "[encoded data removed]",
      "text/plain": [
       "<Figure size 640x480 with 1 Axes>"
      ]
     },
     "metadata": {},
     "output_type": "display_data"
    }
   ],
   "source": [
    "features = (\n",
    "    \"Gill Spacing Close\",\n",
    "    \"Gill Spacing Crowded\",\n",
    ")\n",
    "weight_counts = {\n",
    "    \"edible\": np.array([2404, 963]),\n",
    "    \"poison\": np.array([3042, 90]),\n",
    "}\n",
    "width = 0.5\n",
    "\n",
    "fig, ax = plt.subplots()\n",
    "bottom = np.zeros(2)\n",
    "\n",
    "for boolean, weight_count in weight_counts.items():\n",
    "    p = ax.bar(features, weight_count, width, label=boolean, bottom=bottom)\n",
    "    bottom += weight_count\n",
    "\n",
    "ax.set_title(\"Gill Spacing\")\n",
    "ax.legend(loc=\"upper right\")\n",
    "plt.show()"
   ]
  },
  {
   "cell_type": "code",
   "execution_count": 10,
   "id": "748e53ab",
   "metadata": {},
   "outputs": [
    {
     "data": {
      "image/png": "[encoded data removed]",
      "text/plain": [
       "<Figure size 640x480 with 1 Axes>"
      ]
     },
     "metadata": {},
     "output_type": "display_data"
    }
   ],
   "source": [
    "features = (\n",
    "    \"Fibrous\",\n",
    "    \"Silky\",\n",
    "    \"Smooth\",\n",
    "    \"Scaly\",\n",
    ")\n",
    "weight_counts = {\n",
    "    \"edible\": np.array([324, 119, 2911, 13]),\n",
    "    \"poison\": np.array([120, 1774, 1232, 6]),\n",
    "}\n",
    "width = 0.5\n",
    "\n",
    "fig, ax = plt.subplots()\n",
    "bottom = np.zeros(4)\n",
    "\n",
    "for boolean, weight_count in weight_counts.items():\n",
    "    p = ax.bar(features, weight_count, width, label=boolean, bottom=bottom)\n",
    "    bottom += weight_count\n",
    "\n",
    "ax.set_title(\"Stalk Surface Above Ring\")\n",
    "ax.legend(loc=\"upper right\")\n",
    "plt.show()"
   ]
  },
  {
   "cell_type": "code",
   "execution_count": 11,
   "id": "28f125cd",
   "metadata": {},
   "outputs": [
    {
     "data": {
      "image/png": "[encoded data removed]",
      "text/plain": [
       "<Figure size 640x480 with 1 Axes>"
      ]
     },
     "metadata": {},
     "output_type": "display_data"
    }
   ],
   "source": [
    "features = (\n",
    "    \"Fibrous\",\n",
    "    \"Silky\",\n",
    "    \"Smooth\",\n",
    "    \"Scaly\",\n",
    ")\n",
    "weight_counts = {\n",
    "    \"edible\": np.array([375, 116, 2710, 166]),\n",
    "    \"poison\": np.array([114, 1728, 1232, 58]),\n",
    "}\n",
    "width = 0.5\n",
    "\n",
    "fig, ax = plt.subplots()\n",
    "bottom = np.zeros(4)\n",
    "\n",
    "for boolean, weight_count in weight_counts.items():\n",
    "    p = ax.bar(features, weight_count, width, label=boolean, bottom=bottom)\n",
    "    bottom += weight_count\n",
    "\n",
    "ax.set_title(\"Stalk Surface Below Ring\")\n",
    "ax.legend(loc=\"upper right\")\n",
    "plt.show()"
   ]
  },
  {
   "cell_type": "code",
   "execution_count": 12,
   "id": "bc386dde",
   "metadata": {},
   "outputs": [
    {
     "name": "stdout",
     "output_type": "stream",
     "text": [
      "impliment via scikit learn\n",
      "\n",
      "[[ 1.22610138 -0.02510714  3.91453148 -5.40265417  0.79529447  2.26103416\n",
      "  -2.59965764  1.00587771  2.62418885  0.17537951]]\n",
      "[0.29285893]\n"
     ]
    },
    {
     "data": {
      "text/plain": [
       "0.9458128078817734"
      ]
     },
     "execution_count": 12,
     "metadata": {},
     "output_type": "execute_result"
    }
   ],
   "source": [
    "print(\"impliment via scikit learn\\n\")\n",
    "trainData = pd.read_csv('rdfdum-train-features.csv')\n",
    "trainLabels = pd.read_csv('rdfdum-train-targets.csv')\n",
    "testData = pd.read_csv('rdfdum-test-features.csv')\n",
    "testLabels = pd.read_csv('rdfdum-test-targets.csv')\n",
    "trainData = pd.DataFrame(trainData)\n",
    "\n",
    "trainDataX = trainData.to_numpy()\n",
    "trainLabelsY = trainLabels.to_numpy().ravel()\n",
    "testDataX = testData.to_numpy()\n",
    "testLabelsY = testLabels.to_numpy().ravel()\n",
    "\n",
    "# logistic regression\n",
    "from sklearn.linear_model import LogisticRegression\n",
    "#Gradient Descent\n",
    "logisticReg = LogisticRegression()\n",
    "logisticReg.fit(trainDataX,trainLabelsY)\n",
    "\n",
    "print(logisticReg.coef_) # weights\n",
    "print(logisticReg.intercept_) # Theta_0\n",
    "logisticReg.score(testDataX, testLabelsY)"
   ]
  },
  {
   "cell_type": "code",
   "execution_count": 13,
   "id": "cdcd4347",
   "metadata": {
    "scrolled": false
   },
   "outputs": [
    {
     "data": {
      "image/png": "[encoded data removed]",
      "text/plain": [
       "<Figure size 640x480 with 1 Axes>"
      ]
     },
     "metadata": {},
     "output_type": "display_data"
    }
   ],
   "source": [
    "features = (\n",
    "    \"Edible\",\n",
    "    \"Poisonious\",\n",
    ")\n",
    "weight_counts = {\n",
    "    \"correctly classified\": np.array([791, 745]),\n",
    "    \"missclassified\": np.array([50, 39])\n",
    "    \n",
    "}\n",
    "width = 0.5\n",
    "\n",
    "fig, ax = plt.subplots()\n",
    "bottom = np.zeros(2)\n",
    "\n",
    "for boolean, weight_count in weight_counts.items():\n",
    "    p = ax.bar(features, weight_count, width, label=boolean, bottom=bottom)\n",
    "    bottom += weight_count\n",
    "\n",
    "ax.set_title(\"Test data outcomes vs test predictions\")\n",
    "ax.legend(loc=\"upper right\")\n",
    "plt.ylim(0,950)\n",
    "plt.show()\n"
   ]
  },
  {
   "cell_type": "code",
   "execution_count": 14,
   "id": "667c4c04",
   "metadata": {
    "scrolled": false
   },
   "outputs": [
    {
     "name": "stdout",
     "output_type": "stream",
     "text": [
      "Results of test labels compared to predicted labels for the same data. green line is 75% threshold\n",
      "Blue is the actual outcomes from the test data, 0 is edible, 1 is poisonious\n",
      "The top right of the line and bottom left of the line show misclassified data\n"
     ]
    },
    {
     "data": {
      "image/png": "[encoded data removed]",
      "text/plain": [
       "<Figure size 640x480 with 1 Axes>"
      ]
     },
     "metadata": {},
     "output_type": "display_data"
    }
   ],
   "source": [
    "\n",
    "ytestAs01 = testLabelsY\n",
    "\n",
    "\n",
    "yhatTestProb =  np.array([0.88895, 0.88895, 0.05068, 0.31966, 0.88895, 0.15312, 0.76123, 0.00312, 0.01923, 0.88895, 0.88927, 0.88939, 0.02808, 0.88927, 0.00312, 0.88895, 0.00312, 0.88895, 0.88895, 0.05068, 0.00312, 0.88895, 0.01923, 0.88895, 0.92267, 0.01923, 0.74708, 0.05068, 0.88895, 0.89448, 0.98052, 0.88939, 0.15312, 0.88895, 0.15312, 0.88474, 0.31966, 0.88474, 0.88895, 0.15312, 0.98052, 0.97279, 0.15312, 0.88895, 0.57417, 0.88895, 0.05068, 0.88895, 0.88895, 0.02808, 0.01923, 0.15312, 0.01923, 0.05068, 0.00312, 0.88895, 0.00312, 0.00312, 0.05068, 0.00312, 0.88895, 0.05068, 0.88895, 0.05068, 0.41188, 0.74708, 0.88895, 0.88895, 0.88895, 0.15312, 0.15312, 0.15312, 0.88895, 0.88895, 0.05068, 0.97279, 0.88895, 0.88939, 0.05068, 0.88895, 0.05068, 0.88939, 0.17363, 0.57417, 0.31966, 0.05068, 0.05068, 0.88895, 0.05068, 0.88895, 0.11383, 0.01923, 0.74708, 0.88895, 0.88895, 0.88895, 0.92267, 0.88895, 0.00312, 0.88895, 0.92267, 0.05068, 0.88895, 0.05068, 0.05068, 0.88895, 0.92267, 0.00312, 0.97279, 0.88895, 0.88895, 0.88927, 0.88895, 0.05068, 0.00312, 0.02808, 0.89448, 0.02808, 0.88895, 0.02808, 0.15312, 0.88939, 0.88895, 0.88895, 0.74708, 0.15312, 0.02808, 0.88895, 0.88895, 0.15312, 0.01923, 0.17973, 0.88895, 0.76123, 0.88895, 0.92267, 0.00312, 0.88927, 0.88474, 0.88895, 0.88895, 0.88895, 0.88895, 0.05068, 0.02808, 0.88895, 0.11744, 0.89448, 0.01923, 0.88895, 0.31966, 0.01923, 0.02808, 0.05068, 0.31966, 0.05068, 0.88895, 0.01923, 0.05068, 0.05068, 0.01923, 0.84516, 0.88895, 0.05068, 0.92267, 0.89448, 0.05068, 0.00312, 0.88895, 0.05068, 0.89448, 0.88895, 0.15312, 0.98052, 0.88895, 0.88895, 0.88895, 0.15312, 0.05068, 0.01923, 0.31966, 0.88927, 0.88895, 0.76123, 0.98052, 0.01923, 0.15312, 0.92267, 0.05068, 0.00312, 0.01923, 0.88895, 0.76123, 0.88927, 0.05068, 0.15312, 0.00312, 0.05068, 0.88895, 0.88895, 0.98052, 0.05068, 0.15312, 0.88895, 0.89448, 0.88895, 0.31966, 0.57417, 0.88895, 0.88895, 0.65492, 0.84516, 0.15312, 0.01923, 0.76123, 0.88895, 0.88895, 0.01923, 0.88895, 0.01923, 0.15312, 0.98052, 0.88895, 0.05068, 0.88895, 0.88895, 0.74708, 0.05068, 0.97279, 0.05068, 0.05068, 0.74708, 0.00312, 0.88895, 0.76123, 0.15312, 0.88895, 0.89448, 0.97279, 0.98052, 0.02808, 0.05068, 0.92267, 0.41188, 0.00312, 0.88895, 0.88895, 0.88939, 0.88927, 0.98052, 0.05068, 0.02808, 0.88895, 0.88927, 0.98052, 0.88927, 0.02808, 0.00312, 0.88895, 0.05068, 0.05068, 0.15312, 0.98052, 0.05068, 0.02808, 0.92267, 0.15312, 0.02808, 0.05068, 0.98052, 0.31966, 0.15312, 0.00312, 0.88895, 0.88895, 0.05068, 0.88895, 0.02808, 0.02808, 0.88895, 0.00312, 0.00312, 0.88895, 0.97279, 0.88895, 0.05068, 0.88939, 0.01923, 0.15312, 0.15312, 0.98052, 0.57417, 0.00775, 0.88895, 0.02808, 0.88895, 0.88895, 0.02808, 0.05068, 0.85046, 0.00312, 0.01923, 0.92267, 0.05068, 0.02808, 0.67727, 0.88895, 0.05068, 0.02808, 0.00312, 0.89448, 0.88895, 0.31966, 0.01923, 0.88895, 0.31966, 0.88895, 0.88895, 0.41188, 0.88895, 0.98052, 0.88895, 0.05068, 0.02808, 0.31966, 0.88895, 0.15312, 0.05068, 0.76123, 0.89448, 0.15312, 0.98052, 0.00312, 0.02808, 0.88895, 0.02808, 0.57417, 0.05068, 0.05068, 0.88895, 0.00312, 0.89448, 0.88895, 0.85046, 0.88474, 0.05068, 0.85046, 0.88927, 0.88895, 0.05068, 0.57417, 0.88895, 0.05068, 0.88895, 0.88895, 0.88895, 0.15312, 0.97279, 0.88895, 0.92267, 0.98052, 0.05068, 0.00312, 0.05068, 0.88895, 0.05068, 0.88895, 0.15312, 0.88895, 0.05068, 0.00312, 0.88927, 0.88895, 0.88895, 0.88895, 0.88895, 0.02808, 0.01923, 0.88895, 0.02808, 0.00312, 0.46585, 0.88895, 0.31966, 0.98052, 0.57417, 0.76123, 0.46585, 0.31966, 0.00312, 0.31966, 0.00312, 0.88895, 0.88895, 0.88895, 0.89448, 0.02808, 0.88895, 0.15312, 0.00312, 0.00312, 0.88895, 0.98052, 0.00312, 0.97279, 0.05068, 0.88927, 0.02808, 0.88895, 0.15312, 0.88895, 0.00312, 0.05068, 0.88895, 0.57417, 0.88895, 0.88474, 0.98052, 0.11383, 0.15312, 0.01923, 0.15312, 0.88895, 0.01923, 0.88895, 0.02808, 0.01923, 0.05068, 0.15312, 0.88927, 0.05068, 0.01923, 0.88895, 0.89448, 0.88895, 0.15312, 0.05068, 0.01923, 0.01923, 0.00312, 0.98052, 0.05068, 0.05068, 0.88895, 0.88895, 0.88895, 0.00775, 0.88895, 0.05068, 0.88895, 0.97279, 0.02808, 0.05068, 0.89448, 0.98052, 0.88895, 0.88895, 0.88474, 0.89448, 0.88895, 0.97279, 0.88895, 0.15312, 0.02808, 0.88927, 0.88895, 0.15312, 0.88895, 0.74708, 0.05068, 0.00775, 0.05068, 0.88895, 0.05068, 0.88895, 0.05068, 0.11383, 0.88895, 0.05068, 0.88895, 0.88895, 0.05068, 0.05068, 0.88895, 0.15312, 0.76123, 0.88895, 0.88895, 0.88895, 0.02808, 0.88895, 0.05068, 0.89448, 0.98052, 0.88895, 0.88895, 0.76123, 0.01923, 0.88895, 0.92267, 0.74708, 0.88895, 0.05068, 0.00312, 0.88895, 0.31966, 0.98052, 0.05068, 0.05068, 0.88895, 0.88895, 0.05068, 0.88895, 0.01923, 0.89448, 0.88895, 0.88895, 0.74708, 0.05068, 0.05068, 0.88895, 0.88895, 0.85046, 0.88895, 0.02808, 0.88895, 0.05068, 0.76123, 0.88895, 0.02808, 0.88895, 0.88895, 0.88895, 0.76123, 0.88895, 0.05068, 0.88895, 0.97279, 0.88895, 0.15312, 0.00312, 0.88895, 0.92267, 0.76123, 0.41188, 0.00312, 0.88895, 0.65492, 0.88895, 0.05068, 0.88895, 0.76123, 0.05068, 0.88895, 0.57417, 0.00312, 0.88895, 0.05068, 0.15312, 0.88939, 0.01923, 0.85046, 0.05068, 0.88895, 0.15312, 0.05068, 0.88895, 0.00312, 0.57417, 0.98052, 0.01923, 0.88895, 0.88895, 0.67727, 0.88895, 0.65492, 0.88895, 0.88895, 0.88895, 0.98052, 0.02808, 0.76123, 0.05068, 0.05068, 0.15312, 0.05068, 0.01923, 0.05068, 0.00775, 0.15312, 0.88895, 0.89448, 0.88895, 0.88895, 0.02808, 0.15312, 0.15312, 0.88895, 0.15312, 0.84516, 0.88895, 0.88895, 0.88895, 0.88895, 0.02808, 0.98052, 0.05068, 0.89448, 0.97279, 0.00312, 0.05068, 0.88895, 0.01923, 0.76123, 0.98052, 0.88895, 0.88895, 0.88895, 0.98052, 0.88895, 0.88895, 0.88895, 0.88895, 0.00312, 0.88895, 0.88895, 0.15312, 0.05068, 0.88895, 0.15312, 0.88895, 0.15312, 0.88895, 0.15312, 0.15312, 0.88895, 0.89448, 0.02808, 0.88895, 0.88895, 0.15312, 0.05068, 0.88895, 0.88895, 0.05068, 0.15312, 0.89448, 0.88895, 0.88895, 0.00312, 0.02808, 0.05068, 0.88895, 0.85046, 0.05068, 0.92267, 0.76123, 0.88895, 0.88895, 0.15312, 0.02808, 0.05068, 0.88895, 0.89448, 0.15312, 0.89448, 0.88895, 0.15312, 0.88895, 0.98052, 0.65492, 0.01923, 0.01923, 0.97279, 0.31966, 0.88895, 0.88895, 0.01923, 0.00312, 0.88927, 0.74708, 0.88474, 0.00312, 0.88895, 0.88895, 0.05068, 0.88895, 0.88895, 0.88895, 0.88895, 0.88927, 0.88895, 0.92267, 0.01923, 0.00312, 0.88895, 0.15312, 0.88895, 0.92267, 0.15312, 0.25756, 0.05068, 0.88895, 0.88895, 0.31966, 0.88895, 0.84516, 0.05068, 0.88895, 0.05068, 0.98052, 0.88895, 0.88895, 0.01923, 0.88895, 0.01923, 0.05068, 0.88895, 0.05068, 0.84516, 0.11744, 0.05068, 0.01923, 0.15312, 0.98052, 0.88895, 0.88895, 0.88895, 0.31966, 0.15312, 0.05068, 0.97279, 0.05068, 0.02808, 0.88895, 0.05068, 0.88927, 0.88895, 0.88895, 0.88895, 0.01923, 0.88895, 0.05068, 0.88474, 0.88895, 0.74708, 0.88895, 0.88895, 0.98052, 0.02808, 0.46585, 0.76123, 0.01923, 0.89448, 0.88895, 0.88895, 0.85046, 0.01923, 0.92267, 0.05068, 0.00312, 0.05068, 0.88895, 0.00312, 0.89448, 0.88895, 0.98052, 0.88895, 0.05068, 0.88895, 0.88895, 0.88895, 0.85046, 0.88895, 0.02808, 0.88895, 0.05068, 0.88895, 0.98052, 0.88895, 0.98052, 0.00312, 0.17973, 0.88895, 0.01923, 0.67727, 0.88895, 0.88895, 0.88939, 0.85046, 0.89448, 0.25756, 0.88895, 0.15312, 0.89448, 0.01923, 0.76123, 0.15312, 0.88895, 0.98052, 0.88939, 0.88474, 0.88895, 0.15312, 0.01923, 0.88927, 0.05068, 0.92267, 0.88895, 0.88895, 0.05068, 0.05068, 0.00775, 0.88895, 0.02808, 0.31966, 0.01923, 0.15312, 0.88895, 0.15312, 0.05068, 0.15312, 0.88895, 0.05068, 0.02808, 0.05068, 0.67727, 0.98052, 0.05068, 0.05068, 0.92267, 0.88895, 0.88895, 0.88895, 0.01923, 0.46585, 0.88895, 0.15312, 0.00312, 0.02808, 0.98052, 0.01923, 0.15312, 0.92267, 0.98052, 0.88895, 0.88895, 0.15312, 0.05068, 0.05068, 0.00312, 0.88895, 0.01923, 0.88474, 0.88895, 0.88895, 0.88895, 0.31966, 0.01923, 0.05068, 0.92267, 0.05068, 0.88895, 0.01923, 0.85046, 0.88895, 0.88895, 0.88895, 0.88895, 0.57417, 0.05068, 0.05068, 0.15312, 0.88895, 0.89448, 0.88895, 0.98052, 0.97279, 0.02808, 0.88927, 0.88895, 0.88895, 0.11744, 0.15312, 0.88895, 0.92267, 0.15312, 0.05068, 0.88895, 0.05068, 0.05068, 0.15312, 0.88895, 0.88895, 0.15312, 0.88895, 0.17973, 0.01923, 0.97279, 0.05068, 0.76123, 0.88895, 0.88895, 0.05068, 0.01923, 0.88895, 0.00775, 0.01923, 0.46585, 0.05068, 0.89448, 0.31966, 0.05068, 0.15312, 0.88895, 0.98052, 0.88895, 0.97279, 0.02808, 0.11383, 0.88927, 0.88895, 0.76123, 0.88895, 0.98052, 0.15312, 0.00312, 0.88895, 0.05068, 0.05068, 0.88927, 0.02808, 0.88895, 0.88895, 0.05068, 0.15312, 0.05068, 0.11383, 0.98052, 0.88895, 0.88895, 0.05068, 0.89448, 0.65492, 0.88895, 0.88895, 0.05068, 0.76123, 0.05068, 0.00312, 0.88895, 0.88895, 0.98052, 0.88895, 0.05068, 0.88474, 0.02808, 0.88939, 0.88895, 0.01923, 0.05068, 0.05068, 0.76123, 0.88895, 0.88895, 0.88895, 0.15312, 0.05068, 0.01923, 0.92267, 0.01923, 0.89448, 0.05068, 0.02808, 0.98052, 0.92267, 0.01923, 0.01923, 0.05068, 0.88895, 0.15312, 0.88895, 0.88895, 0.88895, 0.88895, 0.15312, 0.15312, 0.88895, 0.88895, 0.85046, 0.88474, 0.57417, 0.88895, 0.05068, 0.31966, 0.88895, 0.84516, 0.84516, 0.05068, 0.88474, 0.05068, 0.98052, 0.02808, 0.01923, 0.85046, 0.05068, 0.88895, 0.00312, 0.05068, 0.57417, 0.88895, 0.88895, 0.01923, 0.15312, 0.05068, 0.88895, 0.88895, 0.05068, 0.88895, 0.15312, 0.88895, 0.76123, 0.88895, 0.88895, 0.98052, 0.01923, 0.88895, 0.88895, 0.88895, 0.05068, 0.15312, 0.02808, 0.05068, 0.88895, 0.88895, 0.05068, 0.88895, 0.05068, 0.15312, 0.88895, 0.88895, 0.88895, 0.05068, 0.05068, 0.02808, 0.05068, 0.88895, 0.89448, 0.98052, 0.05068, 0.88474, 0.05068, 0.88895, 0.88895, 0.88895, 0.05068, 0.01923, 0.15312, 0.88895, 0.97279, 0.88895, 0.05068, 0.74708, 0.88895, 0.85046, 0.31966, 0.31966, 0.74708, 0.88895, 0.05068, 0.88895, 0.88939, 0.89448, 0.31966, 0.65492, 0.88895, 0.02808, 0.02808, 0.15312, 0.15312, 0.05068, 0.31966, 0.92267, 0.88895, 0.31966, 0.05068, 0.84516, 0.88895, 0.31966, 0.00775, 0.15312, 0.00312, 0.00312, 0.88895, 0.15312, 0.01923, 0.76123, 0.88895, 0.15312, 0.02808, 0.11744, 0.88895, 0.05068, 0.05068, 0.88895, 0.88895, 0.01923, 0.02808, 0.00312, 0.88895, 0.15312, 0.46585, 0.05068, 0.02808, 0.41188, 0.11383, 0.88895, 0.98052, 0.05068, 0.88895, 0.05068, 0.05068, 0.88895, 0.15312, 0.84516, 0.02808, 0.05068, 0.05068, 0.05068, 0.88939, 0.02808, 0.05068, 0.76123, 0.88895, 0.88895, 0.01923, 0.05068, 0.88895, 0.92267, 0.88895, 0.05068, 0.00312, 0.88895, 0.88895, 0.15312, 0.05068, 0.89448, 0.88895, 0.88895, 0.05068, 0.05068, 0.92267, 0.15312, 0.88895, 0.15312, 0.88927, 0.02808, 0.01923, 0.88895, 0.88895, 0.01923, 0.88895, 0.00312, 0.88895, 0.88895, 0.17363, 0.05068, 0.76123, 0.05068, 0.65492, 0.02808, 0.88895, 0.85046, 0.00312, 0.15312, 0.00312, 0.00312, 0.15312, 0.05068, 0.15312, 0.46585, 0.97279, 0.02808, 0.88895, 0.88895, 0.88895, 0.88895, 0.89448, 0.88895, 0.88895, 0.00312, 0.05068, 0.98052, 0.98052, 0.88895, 0.88895, 0.05068, 0.98052, 0.88895, 0.92267, 0.88895, 0.76123, 0.88895, 0.00775, 0.74708, 0.88895, 0.88895, 0.46585, 0.05068, 0.05068, 0.74708, 0.88895, 0.88927, 0.92267, 0.05068, 0.02808, 0.88895, 0.02808, 0.31966, 0.88895, 0.05068, 0.00312, 0.89448, 0.88895, 0.88895, 0.02808, 0.88895, 0.05068, 0.88895, 0.88895, 0.05068, 0.15312, 0.88895, 0.46585, 0.05068, 0.84516, 0.88895, 0.88895, 0.88895, 0.05068, 0.05068, 0.05068, 0.05068, 0.15312, 0.05068, 0.88895, 0.84516, 0.76123, 0.15312, 0.88895, 0.88895, 0.88895, 0.88895, 0.88895, 0.02808, 0.88895, 0.88927, 0.02808, 0.01923, 0.88927, 0.97279, 0.46585, 0.31966, 0.05068, 0.88895, 0.05068, 0.01923, 0.05068, 0.84516, 0.88895, 0.98052, 0.88895, 0.00312, 0.88895, 0.05068, 0.76123, 0.15312, 0.65492, 0.88895, 0.01923, 0.01923, 0.31966, 0.05068, 0.98052, 0.02808, 0.88895, 0.88895, 0.98052, 0.00775, 0.88895, 0.05068, 0.98052, 0.88895, 0.98052, 0.88895, 0.02808, 0.88895, 0.31966, 0.02808, 0.88895, 0.01923, 0.88474, 0.88895, 0.05068, 0.15312, 0.15312, 0.76123, 0.65492, 0.88895, 0.88895, 0.05068, 0.02808, 0.88895, 0.01923, 0.01923, 0.88895, 0.15312, 0.76123, 0.02808, 0.88895, 0.97279, 0.15312, 0.89448, 0.88895, 0.88895, 0.88895, 0.00312, 0.05068, 0.05068, 0.00312, 0.00312, 0.05068, 0.05068, 0.02808, 0.31966, 0.15312, 0.88895, 0.74708, 0.88895, 0.15312, 0.05068, 0.05068, 0.01923, 0.00312, 0.15312, 0.74708, 0.05068, 0.31966, 0.76123, 0.01923, 0.88895, 0.05068, 0.05068, 0.15312, 0.15312, 0.88895, 0.05068, 0.05068, 0.88895, 0.31966, 0.76123, 0.88895, 0.88895, 0.05068, 0.05068, 0.88895, 0.02808, 0.01923, 0.88474, 0.88895, 0.15312, 0.01923, 0.46585, 0.76123, 0.88895, 0.01923, 0.05068, 0.88939, 0.88895, 0.88895, 0.88895, 0.92267, 0.88895, 0.98052, 0.05068, 0.89448, 0.00312, 0.01923, 0.05068, 0.88895, 0.31966, 0.05068, 0.02808, 0.88895, 0.74708, 0.15312, 0.88895, 0.88895, 0.05068, 0.97279, 0.88895, 0.88895, 0.31966, 0.88895, 0.88895, 0.88895, 0.88895, 0.97279, 0.65492, 0.05068, 0.05068, 0.02808, 0.88895, 0.05068, 0.01923, 0.88895, 0.88895, 0.88895, 0.00312, 0.11744, 0.76123, 0.88895, 0.88895, 0.15312, 0.98052, 0.92267, 0.88895, 0.88895, 0.88895, 0.02808, 0.88927, 0.88895, 0.01923, 0.05068, 0.88895, 0.89448, 0.15312, 0.97279, 0.02808, 0.88895, 0.92267, 0.11383, 0.88895, 0.00312, 0.05068, 0.15312, 0.05068, 0.05068, 0.05068, 0.88895, 0.88895, 0.02808, 0.88895, 0.01923, 0.05068, 0.88895, 0.98052, 0.98052, 0.05068, 0.88895, 0.88895, 0.88895, 0.76123, 0.88895, 0.89448, 0.05068, 0.31966, 0.15312, 0.88895, 0.05068, 0.88895, 0.15312, 0.88474, 0.05068, 0.85046, 0.88895, 0.88895, 0.31966, 0.01923, 0.88895, 0.88895, 0.15312, 0.31966, 0.88895, 0.88895, 0.05068, 0.97279, 0.88895, 0.88895, 0.02808, 0.89448, 0.88895, 0.88895, 0.00312, 0.05068, 0.88895, 0.00312, 0.00312, 0.05068, 0.88895, 0.00312, 0.31966, 0.05068, 0.92267, 0.02808, 0.85046, 0.05068, 0.05068, 0.88895, 0.88895, 0.15312, 0.05068, 0.88895, 0.88895, 0.88474, 0.05068, 0.02808, 0.88895, 0.88895, 0.88895, 0.88895, 0.15312, 0.05068, 0.05068, 0.05068, 0.05068, 0.88895, 0.88895, 0.05068, 0.88895, 0.88895, 0.88895, 0.88895, 0.01923, 0.88895, 0.88895, 0.00312, 0.98052, 0.92267, 0.00312, 0.88895, 0.88895, 0.31966, 0.11383, 0.88927, 0.88895, 0.01923, 0.88895, 0.88895, 0.05068, 0.88895, 0.05068, 0.76123, 0.57417, 0.92267, 0.88895, 0.88895, 0.88939, 0.88895, 0.88895, 0.88895, 0.88895, 0.05068, 0.88895, 0.01923, 0.05068, 0.92267, 0.74708, 0.05068, 0.02808, 0.88895, 0.01923, 0.01923, 0.01923, 0.74708, 0.05068, 0.15312, 0.88895, 0.15312, 0.88895, 0.15312, 0.05068, 0.88895, 0.15312, 0.05068, 0.05068, 0.02808, 0.76123, 0.15312, 0.02808, 0.74708, 0.15312, 0.84516, 0.88895, 0.92267, 0.88895, 0.11383, 0.84516, 0.05068, 0.88895, 0.88474, 0.05068, 0.05068, 0.88895, 0.11383, 0.89448, 0.05068, 0.02808, 0.05068, 0.88895, 0.88895, 0.88939, 0.15312, 0.31966, 0.02808, 0.15312, 0.88939, 0.88474, 0.89448, 0.88895, 0.31966, 0.88895, 0.01923, 0.88895, 0.88895])\n",
    "#yhatPredict = np.array([0, 0, 1, 1, 0, 1, 0, 1, 1, 0, 0, 0, 1, 0, 1, 0, 1, 0, 0, 1, 1, 0, 1, 0, 0, 1, 1, 1, 0, 0, 0, 0, 1, 0, 1, 0, 1, 0, 0, 1, 0, 0, 1, 0, 1, 0, 1, 0, 0, 1, 1, 1, 1, 1, 1, 0, 1, 1, 1, 1, 0, 1, 0, 1, 1, 1, 0, 0, 0, 1, 1, 1, 0, 0, 1, 0, 0, 0, 1, 0, 1, 0, 1, 1, 1, 1, 1, 0, 1, 0, 1, 1, 1, 0, 0, 0, 0, 0, 1, 0, 0, 1, 0, 1, 1, 0, 0, 1, 0, 0, 0, 0, 0, 1, 1, 1, 0, 1, 0, 1, 1, 0, 0, 0, 1, 1, 1, 0, 0, 1, 1, 1, 0, 0, 0, 0, 1, 0, 0, 0, 0, 0, 0, 1, 1, 0, 1, 0, 1, 0, 1, 1, 1, 1, 1, 1, 0, 1, 1, 1, 1, 0, 0, 1, 0, 0, 1, 1, 0, 1, 0, 0, 1, 0, 0, 0, 0, 1, 1, 1, 1, 0, 0, 0, 0, 1, 1, 0, 1, 1, 1, 0, 0, 0, 1, 1, 1, 1, 0, 0, 0, 1, 1, 0, 0, 0, 1, 1, 0, 0, 1, 0, 1, 1, 0, 0, 0, 1, 0, 1, 1, 0, 0, 1, 0, 0, 1, 1, 0, 1, 1, 1, 1, 0, 0, 1, 0, 0, 0, 0, 1, 1, 0, 1, 1, 0, 0, 0, 0, 0, 1, 1, 0, 0, 0, 0, 1, 1, 0, 1, 1, 1, 0, 1, 1, 0, 1, 1, 1, 0, 1, 1, 1, 0, 0, 1, 0, 1, 1, 0, 1, 1, 0, 0, 0, 1, 0, 1, 1, 1, 0, 1, 1, 0, 1, 0, 0, 1, 1, 0, 1, 1, 0, 1, 1, 1, 0, 1, 1, 1, 0, 0, 1, 1, 0, 1, 0, 0, 1, 0, 0, 0, 1, 1, 1, 0, 1, 1, 0, 0, 1, 0, 1, 1, 0, 1, 1, 1, 1, 0, 1, 0, 0, 0, 0, 1, 0, 0, 0, 1, 1, 0, 1, 0, 0, 0, 1, 0, 0, 0, 0, 1, 1, 1, 0, 1, 0, 1, 0, 1, 1, 0, 0, 0, 0, 0, 1, 1, 0, 1, 1, 1, 0, 1, 0, 1, 0, 1, 1, 1, 1, 1, 0, 0, 0, 0, 1, 0, 1, 1, 1, 0, 0, 1, 0, 1, 0, 1, 0, 1, 0, 1, 1, 0, 1, 0, 0, 0, 1, 1, 1, 1, 0, 1, 0, 1, 1, 1, 1, 0, 1, 1, 0, 0, 0, 1, 1, 1, 1, 1, 0, 1, 1, 0, 0, 0, 1, 0, 1, 0, 0, 1, 1, 0, 0, 0, 0, 0, 0, 0, 0, 0, 1, 1, 0, 0, 1, 0, 1, 1, 1, 1, 0, 1, 0, 1, 1, 0, 1, 0, 0, 1, 1, 0, 1, 0, 0, 0, 0, 1, 0, 1, 0, 0, 0, 0, 0, 1, 0, 0, 1, 0, 1, 1, 0, 1, 0, 1, 1, 0, 0, 1, 0, 1, 0, 0, 0, 1, 1, 1, 0, 0, 0, 0, 1, 0, 1, 0, 0, 1, 0, 0, 0, 0, 0, 1, 0, 0, 0, 1, 1, 0, 0, 0, 1, 1, 0, 1, 0, 1, 0, 0, 1, 0, 1, 1, 0, 1, 1, 0, 1, 0, 1, 0, 1, 1, 0, 1, 1, 0, 1, 0, 0, 1, 0, 1, 0, 0, 0, 0, 1, 0, 1, 1, 1, 1, 1, 1, 1, 1, 0, 0, 0, 0, 1, 1, 1, 0, 1, 0, 0, 0, 0, 0, 1, 0, 1, 0, 0, 1, 1, 0, 1, 0, 0, 0, 0, 0, 0, 0, 0, 0, 0, 1, 0, 0, 1, 1, 0, 1, 0, 1, 0, 1, 1, 0, 0, 1, 0, 0, 1, 1, 0, 0, 1, 1, 0, 0, 0, 1, 1, 1, 0, 0, 1, 0, 0, 0, 0, 1, 1, 1, 0, 0, 1, 0, 0, 1, 0, 0, 1, 1, 1, 0, 1, 0, 0, 1, 1, 0, 1, 0, 1, 0, 0, 1, 0, 0, 0, 0, 0, 0, 0, 1, 1, 0, 1, 0, 0, 1, 1, 1, 0, 0, 1, 0, 0, 1, 0, 1, 0, 0, 0, 1, 0, 1, 1, 0, 1, 0, 1, 1, 1, 1, 0, 0, 0, 0, 1, 1, 1, 0, 1, 1, 0, 1, 0, 0, 0, 0, 1, 0, 1, 0, 0, 1, 0, 0, 0, 1, 1, 0, 1, 0, 0, 0, 0, 1, 0, 1, 1, 1, 0, 1, 0, 0, 0, 0, 1, 0, 0, 0, 0, 0, 1, 0, 1, 0, 0, 0, 0, 1, 1, 0, 1, 1, 0, 0, 0, 0, 0, 1, 0, 1, 0, 1, 0, 1, 0, 0, 0, 0, 0, 1, 1, 0, 1, 0, 0, 0, 1, 1, 1, 0, 1, 1, 1, 1, 0, 1, 1, 1, 0, 1, 1, 1, 1, 0, 1, 1, 0, 0, 0, 0, 1, 1, 0, 1, 1, 1, 0, 1, 1, 0, 0, 0, 0, 1, 1, 1, 1, 0, 1, 0, 0, 0, 0, 1, 1, 1, 0, 1, 0, 1, 0, 0, 0, 0, 0, 1, 1, 1, 1, 0, 0, 0, 0, 0, 1, 0, 0, 0, 1, 1, 0, 0, 1, 1, 0, 1, 1, 1, 0, 0, 1, 0, 1, 1, 0, 1, 0, 0, 0, 1, 1, 0, 1, 1, 1, 1, 0, 1, 1, 1, 0, 0, 0, 0, 1, 1, 0, 0, 0, 0, 0, 1, 1, 0, 1, 1, 0, 1, 0, 0, 1, 1, 1, 1, 0, 0, 0, 1, 0, 1, 0, 0, 1, 0, 1, 1, 0, 0, 0, 0, 1, 0, 1, 0, 0, 1, 1, 1, 0, 0, 0, 0, 1, 1, 1, 0, 1, 0, 1, 1, 0, 0, 1, 1, 1, 0, 1, 0, 0, 0, 0, 1, 1, 0, 0, 0, 0, 1, 0, 1, 1, 0, 0, 0, 1, 0, 1, 0, 1, 1, 0, 1, 0, 1, 1, 1, 0, 0, 1, 1, 1, 0, 0, 1, 0, 1, 0, 0, 0, 0, 0, 1, 0, 0, 0, 1, 1, 1, 1, 0, 0, 1, 0, 1, 1, 0, 0, 0, 1, 1, 1, 1, 0, 0, 0, 1, 0, 1, 0, 0, 0, 1, 1, 1, 0, 0, 0, 1, 1, 0, 0, 1, 1, 1, 0, 1, 0, 0, 0, 1, 1, 0, 1, 1, 1, 1, 1, 1, 0, 0, 1, 1, 0, 0, 1, 1, 1, 1, 1, 0, 1, 1, 0, 0, 1, 1, 1, 0, 1, 1, 0, 0, 1, 1, 1, 0, 1, 1, 1, 1, 1, 1, 0, 0, 1, 0, 1, 1, 0, 1, 0, 1, 1, 1, 1, 0, 1, 1, 0, 0, 0, 1, 1, 0, 0, 0, 1, 1, 0, 0, 1, 1, 0, 0, 0, 1, 1, 0, 1, 0, 1, 0, 1, 1, 0, 0, 1, 0, 1, 0, 0, 1, 1, 0, 1, 1, 1, 0, 0, 1, 1, 1, 1, 1, 1, 1, 1, 0, 1, 0, 0, 0, 0, 0, 0, 0, 1, 1, 0, 0, 0, 0, 1, 0, 0, 0, 0, 0, 0, 1, 1, 0, 0, 1, 1, 1, 1, 0, 0, 0, 1, 1, 0, 1, 1, 0, 1, 1, 0, 0, 0, 1, 0, 1, 0, 0, 1, 1, 0, 1, 1, 0, 0, 0, 0, 1, 1, 1, 1, 1, 1, 0, 0, 0, 1, 0, 0, 0, 0, 0, 1, 0, 0, 1, 1, 0, 0, 1, 1, 1, 0, 1, 1, 1, 0, 0, 0, 0, 1, 0, 1, 0, 1, 1, 0, 1, 1, 1, 1, 0, 1, 0, 0, 0, 1, 0, 1, 0, 0, 0, 0, 1, 0, 1, 1, 0, 1, 0, 0, 1, 1, 1, 0, 1, 0, 0, 1, 1, 0, 1, 1, 0, 1, 0, 1, 0, 0, 1, 0, 0, 0, 0, 1, 1, 1, 1, 1, 1, 1, 1, 1, 1, 0, 1, 0, 1, 1, 1, 1, 1, 1, 1, 1, 1, 0, 1, 0, 1, 1, 1, 1, 0, 1, 1, 0, 1, 0, 0, 0, 1, 1, 0, 1, 1, 0, 0, 1, 1, 1, 0, 0, 1, 1, 0, 0, 0, 0, 0, 0, 0, 1, 0, 1, 1, 1, 0, 1, 1, 1, 0, 1, 1, 0, 0, 1, 0, 0, 0, 1, 0, 0, 0, 0, 0, 1, 1, 1, 1, 0, 1, 1, 0, 0, 0, 1, 1, 0, 0, 0, 1, 0, 0, 0, 0, 0, 1, 0, 0, 1, 1, 0, 0, 1, 0, 1, 0, 0, 1, 0, 1, 1, 1, 1, 1, 1, 0, 0, 1, 0, 1, 1, 0, 0, 0, 1, 0, 0, 0, 0, 0, 0, 1, 1, 1, 0, 1, 0, 1, 0, 1, 0, 0, 0, 1, 1, 0, 0, 1, 1, 0, 0, 1, 0, 0, 0, 1, 0, 0, 0, 1, 1, 0, 1, 1, 1, 0, 1, 1, 1, 0, 1, 0, 1, 1, 0, 0, 1, 1, 0, 0, 0, 1, 1, 0, 0, 0, 0, 1, 1, 1, 1, 1, 0, 0, 1, 0, 0, 0, 0, 1, 0, 0, 1, 0, 0, 1, 0, 0, 1, 1, 0, 0, 1, 0, 0, 1, 0, 1, 0, 1, 0, 0, 0, 0, 0, 0, 0, 0, 1, 0, 1, 1, 0, 1, 1, 1, 0, 1, 1, 1, 1, 1, 1, 0, 1, 0, 1, 1, 0, 1, 1, 1, 1, 0, 1, 1, 1, 1, 0, 0, 0, 0, 1, 0, 1, 0, 0, 1, 1, 0, 1, 0, 1, 1, 1, 0, 0, 0, 1, 1, 1, 1, 0, 0, 0, 0, 1, 0, 1, 0, 0])\n",
    "ytest = np.array([0, 0, 1, 1, 0, 1, 0, 1, 1, 0, 0, 0, 1, 0, 1, 0, 1, 0, 0, 1, 1, 0, 1, 0, 0, 1, 1, 1, 0, 0, 0, 0, 1, 0, 1, 0, 1, 0, 0, 1, 0, 0, 1, 0, 1, 0, 1, 0, 0, 1, 1, 1, 1, 1, 1, 0, 1, 1, 1, 1, 0, 1, 0, 1, 0, 1, 0, 0, 0, 1, 1, 1, 0, 0, 1, 0, 0, 0, 1, 0, 1, 0, 1, 1, 1, 1, 1, 0, 1, 0, 0, 1, 1, 0, 0, 0, 0, 0, 1, 0, 0, 1, 0, 1, 1, 0, 0, 1, 0, 0, 0, 0, 1, 1, 1, 1, 0, 1, 0, 1, 1, 0, 0, 0, 1, 0, 1, 1, 0, 1, 1, 0, 0, 0, 0, 0, 1, 0, 0, 0, 0, 0, 0, 1, 1, 1, 1, 0, 1, 0, 1, 1, 1, 1, 1, 1, 0, 1, 1, 1, 1, 0, 0, 1, 0, 0, 1, 1, 0, 1, 0, 0, 1, 0, 0, 0, 0, 1, 1, 1, 1, 0, 0, 0, 0, 1, 0, 0, 1, 1, 1, 0, 0, 0, 1, 1, 1, 1, 0, 0, 0, 1, 0, 0, 0, 0, 1, 1, 0, 0, 1, 0, 1, 1, 0, 0, 0, 1, 1, 1, 1, 0, 0, 1, 0, 0, 0, 1, 0, 1, 1, 1, 1, 0, 0, 1, 0, 0, 0, 0, 1, 1, 0, 0, 1, 0, 0, 0, 0, 0, 1, 1, 0, 0, 0, 0, 1, 1, 0, 1, 1, 1, 0, 1, 1, 0, 1, 1, 1, 0, 1, 1, 1, 0, 0, 1, 0, 1, 1, 0, 1, 1, 0, 0, 0, 1, 0, 1, 0, 1, 0, 1, 1, 0, 1, 0, 1, 1, 1, 1, 1, 1, 0, 1, 1, 0, 0, 1, 1, 1, 0, 0, 1, 1, 0, 1, 0, 0, 0, 0, 0, 0, 1, 1, 1, 0, 0, 1, 0, 0, 1, 0, 1, 1, 0, 1, 1, 1, 1, 0, 1, 0, 0, 1, 0, 1, 1, 0, 0, 1, 1, 0, 1, 0, 0, 0, 1, 0, 0, 0, 0, 1, 1, 1, 0, 1, 0, 1, 0, 1, 1, 0, 0, 0, 0, 0, 1, 1, 0, 1, 1, 0, 0, 1, 0, 1, 0, 0, 1, 1, 1, 1, 0, 0, 1, 0, 1, 0, 1, 1, 1, 0, 0, 1, 0, 1, 0, 1, 0, 1, 0, 1, 1, 0, 1, 1, 0, 0, 0, 1, 1, 1, 0, 1, 0, 1, 1, 1, 0, 0, 1, 1, 0, 0, 0, 1, 1, 1, 1, 1, 0, 1, 1, 1, 0, 0, 1, 0, 1, 0, 0, 1, 1, 0, 0, 0, 0, 0, 0, 0, 0, 0, 1, 1, 0, 0, 1, 0, 1, 1, 1, 1, 0, 1, 0, 1, 0, 0, 1, 0, 0, 1, 1, 0, 1, 0, 0, 0, 0, 1, 0, 1, 0, 0, 0, 0, 0, 1, 0, 0, 1, 0, 1, 1, 0, 1, 0, 1, 1, 0, 0, 1, 0, 1, 0, 0, 0, 1, 1, 1, 0, 0, 1, 0, 1, 0, 1, 0, 0, 1, 0, 0, 0, 0, 0, 1, 0, 0, 0, 1, 1, 0, 0, 0, 0, 1, 0, 1, 0, 1, 0, 0, 1, 0, 1, 1, 0, 1, 1, 0, 1, 1, 1, 0, 1, 1, 1, 1, 1, 0, 1, 0, 0, 0, 0, 1, 0, 0, 0, 0, 1, 0, 1, 1, 1, 1, 1, 1, 1, 1, 0, 0, 0, 1, 1, 1, 1, 0, 0, 0, 0, 0, 0, 0, 1, 0, 1, 0, 0, 1, 1, 0, 1, 0, 0, 0, 0, 0, 0, 1, 0, 0, 0, 1, 0, 0, 1, 1, 0, 1, 0, 1, 0, 1, 1, 0, 0, 1, 0, 0, 1, 1, 0, 0, 1, 1, 0, 0, 0, 1, 1, 1, 0, 1, 1, 0, 0, 0, 0, 1, 1, 1, 0, 0, 1, 0, 0, 1, 0, 0, 1, 1, 1, 0, 1, 0, 0, 1, 1, 0, 1, 0, 1, 0, 0, 1, 0, 1, 0, 0, 0, 0, 0, 1, 1, 0, 1, 0, 0, 1, 1, 1, 0, 0, 1, 0, 0, 1, 0, 1, 0, 0, 0, 1, 0, 1, 1, 0, 1, 0, 1, 1, 1, 1, 0, 0, 0, 0, 1, 1, 1, 0, 1, 1, 0, 1, 0, 0, 0, 0, 1, 0, 1, 0, 0, 1, 0, 0, 0, 1, 0, 0, 1, 0, 0, 0, 1, 1, 0, 1, 1, 1, 1, 1, 0, 0, 0, 0, 1, 0, 0, 0, 1, 0, 1, 0, 1, 0, 0, 0, 0, 1, 0, 0, 1, 0, 0, 0, 0, 1, 0, 1, 0, 1, 0, 1, 0, 1, 0, 0, 0, 0, 0, 1, 1, 0, 1, 0, 0, 0, 1, 1, 1, 0, 1, 1, 1, 1, 0, 1, 1, 0, 0, 1, 1, 1, 0, 0, 1, 1, 0, 0, 0, 0, 1, 0, 0, 1, 1, 1, 0, 1, 1, 0, 0, 0, 0, 1, 1, 1, 1, 0, 1, 0, 0, 0, 0, 1, 1, 1, 0, 1, 0, 1, 1, 0, 0, 0, 0, 1, 1, 1, 0, 0, 0, 0, 0, 0, 1, 0, 0, 0, 1, 1, 0, 0, 1, 1, 0, 1, 1, 1, 0, 0, 1, 0, 0, 1, 0, 1, 0, 0, 0, 1, 1, 0, 1, 1, 0, 1, 0, 1, 1, 1, 0, 0, 0, 0, 1, 0, 0, 0, 0, 0, 0, 1, 1, 0, 1, 1, 0, 1, 0, 0, 1, 1, 1, 0, 0, 0, 0, 1, 0, 1, 0, 1, 1, 0, 1, 1, 0, 0, 0, 0, 1, 0, 1, 0, 0, 1, 1, 1, 0, 0, 0, 0, 1, 1, 1, 0, 1, 0, 1, 1, 0, 0, 1, 1, 1, 0, 1, 0, 1, 0, 0, 1, 1, 0, 0, 1, 0, 1, 0, 1, 1, 0, 0, 0, 1, 0, 1, 0, 1, 1, 1, 1, 0, 1, 1, 1, 0, 0, 1, 1, 1, 0, 0, 1, 0, 1, 0, 0, 0, 0, 0, 1, 0, 0, 1, 1, 1, 1, 1, 0, 0, 1, 0, 1, 1, 0, 0, 0, 1, 1, 1, 1, 0, 0, 0, 1, 1, 1, 0, 0, 0, 1, 1, 1, 0, 0, 0, 1, 1, 0, 1, 1, 1, 1, 0, 1, 0, 0, 0, 1, 1, 0, 1, 1, 0, 1, 1, 1, 0, 0, 1, 1, 0, 0, 1, 1, 1, 1, 1, 0, 1, 1, 0, 0, 1, 1, 1, 0, 1, 1, 0, 0, 1, 1, 1, 0, 1, 0, 1, 1, 0, 0, 0, 0, 1, 0, 1, 1, 1, 0, 0, 1, 1, 1, 1, 0, 1, 1, 0, 0, 0, 1, 1, 0, 0, 0, 1, 1, 0, 0, 0, 1, 0, 0, 0, 1, 1, 0, 1, 0, 1, 0, 1, 1, 0, 0, 1, 0, 1, 0, 0, 1, 1, 0, 1, 1, 1, 0, 1, 1, 1, 1, 1, 1, 1, 1, 0, 0, 1, 0, 0, 0, 0, 0, 0, 0, 1, 1, 0, 0, 1, 0, 1, 0, 0, 0, 0, 0, 0, 1, 1, 0, 0, 0, 1, 1, 1, 0, 0, 0, 1, 1, 0, 1, 1, 0, 1, 1, 0, 0, 0, 1, 0, 1, 0, 0, 1, 1, 0, 0, 1, 0, 0, 0, 0, 1, 1, 1, 1, 1, 1, 0, 0, 0, 1, 0, 0, 0, 0, 0, 1, 0, 0, 1, 1, 0, 0, 0, 1, 1, 0, 1, 1, 1, 0, 0, 0, 0, 1, 0, 1, 0, 1, 1, 0, 1, 1, 1, 1, 0, 1, 0, 0, 0, 1, 0, 1, 0, 0, 0, 0, 1, 0, 1, 1, 0, 1, 0, 0, 1, 1, 1, 0, 1, 0, 0, 1, 1, 0, 1, 1, 0, 0, 0, 1, 0, 0, 1, 0, 0, 0, 0, 1, 1, 1, 1, 1, 1, 1, 1, 1, 1, 0, 0, 0, 1, 1, 1, 1, 1, 1, 1, 1, 1, 0, 1, 0, 1, 1, 1, 1, 0, 1, 1, 0, 1, 0, 0, 0, 1, 1, 1, 1, 1, 0, 0, 1, 1, 0, 0, 0, 1, 1, 0, 0, 0, 0, 0, 0, 0, 1, 0, 1, 1, 1, 0, 1, 1, 1, 0, 1, 1, 0, 0, 1, 0, 0, 0, 1, 0, 0, 0, 0, 0, 1, 1, 1, 1, 0, 1, 1, 0, 0, 0, 1, 1, 0, 0, 0, 1, 0, 0, 0, 0, 0, 1, 0, 0, 1, 1, 0, 0, 1, 0, 1, 0, 0, 0, 0, 1, 1, 1, 1, 1, 1, 0, 0, 1, 0, 1, 1, 0, 0, 0, 1, 0, 0, 0, 0, 0, 0, 1, 1, 1, 0, 1, 0, 0, 0, 1, 1, 0, 0, 1, 1, 0, 1, 1, 1, 0, 0, 1, 0, 0, 0, 1, 0, 0, 0, 1, 1, 0, 1, 1, 1, 0, 1, 1, 1, 0, 1, 1, 1, 1, 0, 0, 1, 1, 0, 1, 0, 1, 1, 0, 0, 0, 0, 0, 1, 1, 1, 1, 0, 0, 1, 0, 0, 0, 0, 1, 0, 0, 1, 0, 0, 1, 0, 0, 1, 0, 0, 0, 1, 0, 0, 1, 0, 1, 0, 1, 0, 0, 0, 0, 0, 0, 0, 0, 1, 0, 1, 1, 0, 1, 1, 1, 0, 1, 1, 1, 1, 1, 1, 0, 1, 0, 1, 1, 0, 1, 1, 1, 1, 0, 1, 1, 1, 1, 0, 0, 0, 0, 0, 0, 1, 0, 0, 1, 1, 1, 0, 0, 1, 1, 1, 0, 0, 0, 1, 1, 1, 1, 0, 0, 0, 0, 1, 0, 1, 0, 0, ])\n",
    "\n",
    "\n",
    "print(\"Results of test labels compared to predicted labels for the same data. green line is 75% threshold\")\n",
    "print(\"Blue is the actual outcomes from the test data, 0 is edible, 1 is poisonious\")\n",
    "print(\"The top right of the line and bottom left of the line show misclassified data\")\n",
    "plt.scatter(yhatTestProb,ytest, marker=11, alpha=0.1)\n",
    "#plt.scatter(yhatTestProb,yhatPredict, marker=10, alpha=0.2)\n",
    "plt.plot([0.75,0.75],[-1.25,1.25],color='green',linestyle='dashed',linewidth=2)\n",
    "plt.xlim(-0.25,1.25)\n",
    "plt.ylim(-0.25,1.25)\n",
    "plt.show()\n",
    "\n",
    "\n",
    "\n"
   ]
  },
  {
   "cell_type": "code",
   "execution_count": null,
   "id": "e674535e",
   "metadata": {},
   "outputs": [],
   "source": []
  }
 ],
 "metadata": {
  "kernelspec": {
   "display_name": "Python 3 (ipykernel)",
   "language": "python",
   "name": "python3"
  },
  "language_info": {
   "codemirror_mode": {
    "name": "ipython",
    "version": 3
   },
   "file_extension": ".py",
   "mimetype": "text/x-python",
   "name": "python",
   "nbconvert_exporter": "python",
   "pygments_lexer": "ipython3",
   "version": "3.10.6"
  }
 },
 "nbformat": 4,
 "nbformat_minor": 5
}
